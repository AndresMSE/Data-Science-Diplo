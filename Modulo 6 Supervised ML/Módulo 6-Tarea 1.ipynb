{
 "cells": [
  {
   "cell_type": "markdown",
   "id": "8453f8f5",
   "metadata": {},
   "source": [
    "# Módulo 6: Aprendizaje de máquina supervisado\n",
    "## Tarea 1\n",
    "    Participante: Ángel Andrés Moreno Sánchez\n",
    "    \n",
    "### Objetivo: \n",
    "Hacer un modelo de regresión que prediga cuánto se le debe cobrar a un \n",
    "paciente por una aseguradora dado su historial clínico básico e información demográfica\n"
   ]
  },
  {
   "cell_type": "code",
   "execution_count": 1,
   "id": "fa2986fc",
   "metadata": {},
   "outputs": [],
   "source": [
    "# Importar librerías necesarias\n",
    "import pandas as pd\n",
    "import numpy as np\n",
    "import matplotlib.pyplot as plt\n",
    "import warnings\n",
    "\n",
    "warnings.filterwarnings(\"ignore\")\n",
    "plt.rcParams['figure.figsize'] = (20.0, 10.0)"
   ]
  },
  {
   "cell_type": "code",
   "execution_count": 2,
   "id": "26bc17cb",
   "metadata": {},
   "outputs": [
    {
     "data": {
      "text/html": [
       "<div>\n",
       "<style scoped>\n",
       "    .dataframe tbody tr th:only-of-type {\n",
       "        vertical-align: middle;\n",
       "    }\n",
       "\n",
       "    .dataframe tbody tr th {\n",
       "        vertical-align: top;\n",
       "    }\n",
       "\n",
       "    .dataframe thead th {\n",
       "        text-align: right;\n",
       "    }\n",
       "</style>\n",
       "<table border=\"1\" class=\"dataframe\">\n",
       "  <thead>\n",
       "    <tr style=\"text-align: right;\">\n",
       "      <th></th>\n",
       "      <th>age</th>\n",
       "      <th>sex</th>\n",
       "      <th>bmi</th>\n",
       "      <th>children</th>\n",
       "      <th>smoker</th>\n",
       "      <th>region</th>\n",
       "      <th>charges</th>\n",
       "    </tr>\n",
       "  </thead>\n",
       "  <tbody>\n",
       "    <tr>\n",
       "      <th>0</th>\n",
       "      <td>19</td>\n",
       "      <td>female</td>\n",
       "      <td>27.900</td>\n",
       "      <td>0</td>\n",
       "      <td>yes</td>\n",
       "      <td>southwest</td>\n",
       "      <td>16884.92400</td>\n",
       "    </tr>\n",
       "    <tr>\n",
       "      <th>1</th>\n",
       "      <td>18</td>\n",
       "      <td>male</td>\n",
       "      <td>33.770</td>\n",
       "      <td>1</td>\n",
       "      <td>no</td>\n",
       "      <td>southeast</td>\n",
       "      <td>1725.55230</td>\n",
       "    </tr>\n",
       "    <tr>\n",
       "      <th>2</th>\n",
       "      <td>28</td>\n",
       "      <td>male</td>\n",
       "      <td>33.000</td>\n",
       "      <td>3</td>\n",
       "      <td>no</td>\n",
       "      <td>southeast</td>\n",
       "      <td>4449.46200</td>\n",
       "    </tr>\n",
       "    <tr>\n",
       "      <th>3</th>\n",
       "      <td>33</td>\n",
       "      <td>male</td>\n",
       "      <td>22.705</td>\n",
       "      <td>0</td>\n",
       "      <td>no</td>\n",
       "      <td>northwest</td>\n",
       "      <td>21984.47061</td>\n",
       "    </tr>\n",
       "    <tr>\n",
       "      <th>4</th>\n",
       "      <td>32</td>\n",
       "      <td>male</td>\n",
       "      <td>28.880</td>\n",
       "      <td>0</td>\n",
       "      <td>no</td>\n",
       "      <td>northwest</td>\n",
       "      <td>3866.85520</td>\n",
       "    </tr>\n",
       "  </tbody>\n",
       "</table>\n",
       "</div>"
      ],
      "text/plain": [
       "   age     sex     bmi  children smoker     region      charges\n",
       "0   19  female  27.900         0    yes  southwest  16884.92400\n",
       "1   18    male  33.770         1     no  southeast   1725.55230\n",
       "2   28    male  33.000         3     no  southeast   4449.46200\n",
       "3   33    male  22.705         0     no  northwest  21984.47061\n",
       "4   32    male  28.880         0     no  northwest   3866.85520"
      ]
     },
     "execution_count": 2,
     "metadata": {},
     "output_type": "execute_result"
    }
   ],
   "source": [
    "# Importar los datos\n",
    "df = pd.read_csv('insurance.csv')\n",
    "df.head()"
   ]
  },
  {
   "cell_type": "markdown",
   "id": "ca073f18",
   "metadata": {},
   "source": [
    "### Pregunta 1: \n",
    "¿Existen valores nulos en alguna columna? "
   ]
  },
  {
   "cell_type": "code",
   "execution_count": 3,
   "id": "313a4576",
   "metadata": {},
   "outputs": [
    {
     "name": "stdout",
     "output_type": "stream",
     "text": [
      "<class 'pandas.core.frame.DataFrame'>\n",
      "RangeIndex: 1338 entries, 0 to 1337\n",
      "Data columns (total 7 columns):\n",
      " #   Column    Non-Null Count  Dtype  \n",
      "---  ------    --------------  -----  \n",
      " 0   age       1338 non-null   int64  \n",
      " 1   sex       1338 non-null   object \n",
      " 2   bmi       1338 non-null   float64\n",
      " 3   children  1338 non-null   int64  \n",
      " 4   smoker    1338 non-null   object \n",
      " 5   region    1338 non-null   object \n",
      " 6   charges   1338 non-null   float64\n",
      "dtypes: float64(2), int64(2), object(3)\n",
      "memory usage: 73.3+ KB\n"
     ]
    }
   ],
   "source": [
    "df.info()    # Información acerca de las variables del DF"
   ]
  },
  {
   "cell_type": "code",
   "execution_count": 4,
   "id": "9fd7efbf",
   "metadata": {},
   "outputs": [
    {
     "data": {
      "text/plain": [
       "age         0\n",
       "sex         0\n",
       "bmi         0\n",
       "children    0\n",
       "smoker      0\n",
       "region      0\n",
       "charges     0\n",
       "dtype: int64"
      ]
     },
     "execution_count": 4,
     "metadata": {},
     "output_type": "execute_result"
    }
   ],
   "source": [
    "df.isnull().sum()    # Contamos el número de valores nulos en alguna columna"
   ]
  },
  {
   "cell_type": "markdown",
   "id": "cefc34fe",
   "metadata": {},
   "source": [
    "**R:** No existen valores nulos en las columnas"
   ]
  },
  {
   "cell_type": "markdown",
   "id": "d4cea3af",
   "metadata": {},
   "source": [
    "### Pregunta 2:\n",
    "Graficar la distribución de la columna “charges”"
   ]
  },
  {
   "cell_type": "code",
   "execution_count": 5,
   "id": "4c6a78e5",
   "metadata": {},
   "outputs": [
    {
     "data": {
      "text/plain": [
       "count     1338.000000\n",
       "mean     13270.422265\n",
       "std      12110.011237\n",
       "min       1121.873900\n",
       "25%       4740.287150\n",
       "50%       9382.033000\n",
       "75%      16639.912515\n",
       "max      63770.428010\n",
       "Name: charges, dtype: float64"
      ]
     },
     "execution_count": 5,
     "metadata": {},
     "output_type": "execute_result"
    }
   ],
   "source": [
    "df['charges'].describe() "
   ]
  },
  {
   "cell_type": "code",
   "execution_count": 6,
   "id": "40e90830",
   "metadata": {},
   "outputs": [
    {
     "data": {
      "text/plain": [
       "<AxesSubplot:>"
      ]
     },
     "execution_count": 6,
     "metadata": {},
     "output_type": "execute_result"
    },
    {
     "data": {
      "image/png": "[encoded data removed]",
      "text/plain": [
       "<Figure size 1440x720 with 1 Axes>"
      ]
     },
     "metadata": {
      "needs_background": "light"
     },
     "output_type": "display_data"
    }
   ],
   "source": [
    "df['charges'].hist()    # Obtener el histograma del dataframe, variable charges"
   ]
  },
  {
   "cell_type": "markdown",
   "id": "6675cb0a",
   "metadata": {},
   "source": [
    "### Pregunta 3: \n",
    "Graficar la distribución conjunta de “charges” y “age” para los no fumadores"
   ]
  },
  {
   "cell_type": "code",
   "execution_count": 7,
   "id": "0baca1af",
   "metadata": {},
   "outputs": [],
   "source": [
    "# Agrupamos en fumadores y no fumadores\n",
    "\n",
    "smoke = [x for x in df.groupby('smoker')][0][1]    \n",
    "no_smoke = [x for x in df.groupby('smoker')][1][1]"
   ]
  },
  {
   "cell_type": "code",
   "execution_count": 8,
   "id": "7dcdd631",
   "metadata": {},
   "outputs": [
    {
     "data": {
      "text/html": [
       "<div>\n",
       "<style scoped>\n",
       "    .dataframe tbody tr th:only-of-type {\n",
       "        vertical-align: middle;\n",
       "    }\n",
       "\n",
       "    .dataframe tbody tr th {\n",
       "        vertical-align: top;\n",
       "    }\n",
       "\n",
       "    .dataframe thead th {\n",
       "        text-align: right;\n",
       "    }\n",
       "</style>\n",
       "<table border=\"1\" class=\"dataframe\">\n",
       "  <thead>\n",
       "    <tr style=\"text-align: right;\">\n",
       "      <th></th>\n",
       "      <th>age</th>\n",
       "      <th>sex</th>\n",
       "      <th>bmi</th>\n",
       "      <th>children</th>\n",
       "      <th>smoker</th>\n",
       "      <th>region</th>\n",
       "      <th>charges</th>\n",
       "    </tr>\n",
       "  </thead>\n",
       "  <tbody>\n",
       "    <tr>\n",
       "      <th>1</th>\n",
       "      <td>18</td>\n",
       "      <td>male</td>\n",
       "      <td>33.770</td>\n",
       "      <td>1</td>\n",
       "      <td>no</td>\n",
       "      <td>southeast</td>\n",
       "      <td>1725.55230</td>\n",
       "    </tr>\n",
       "    <tr>\n",
       "      <th>2</th>\n",
       "      <td>28</td>\n",
       "      <td>male</td>\n",
       "      <td>33.000</td>\n",
       "      <td>3</td>\n",
       "      <td>no</td>\n",
       "      <td>southeast</td>\n",
       "      <td>4449.46200</td>\n",
       "    </tr>\n",
       "    <tr>\n",
       "      <th>3</th>\n",
       "      <td>33</td>\n",
       "      <td>male</td>\n",
       "      <td>22.705</td>\n",
       "      <td>0</td>\n",
       "      <td>no</td>\n",
       "      <td>northwest</td>\n",
       "      <td>21984.47061</td>\n",
       "    </tr>\n",
       "    <tr>\n",
       "      <th>4</th>\n",
       "      <td>32</td>\n",
       "      <td>male</td>\n",
       "      <td>28.880</td>\n",
       "      <td>0</td>\n",
       "      <td>no</td>\n",
       "      <td>northwest</td>\n",
       "      <td>3866.85520</td>\n",
       "    </tr>\n",
       "    <tr>\n",
       "      <th>5</th>\n",
       "      <td>31</td>\n",
       "      <td>female</td>\n",
       "      <td>25.740</td>\n",
       "      <td>0</td>\n",
       "      <td>no</td>\n",
       "      <td>southeast</td>\n",
       "      <td>3756.62160</td>\n",
       "    </tr>\n",
       "  </tbody>\n",
       "</table>\n",
       "</div>"
      ],
      "text/plain": [
       "   age     sex     bmi  children smoker     region      charges\n",
       "1   18    male  33.770         1     no  southeast   1725.55230\n",
       "2   28    male  33.000         3     no  southeast   4449.46200\n",
       "3   33    male  22.705         0     no  northwest  21984.47061\n",
       "4   32    male  28.880         0     no  northwest   3866.85520\n",
       "5   31  female  25.740         0     no  southeast   3756.62160"
      ]
     },
     "execution_count": 8,
     "metadata": {},
     "output_type": "execute_result"
    }
   ],
   "source": [
    "smoke.head()"
   ]
  },
  {
   "cell_type": "code",
   "execution_count": 9,
   "id": "cf7f4559",
   "metadata": {},
   "outputs": [
    {
     "data": {
      "image/png": "[encoded data removed]",
      "text/plain": [
       "<Figure size 1080x360 with 1 Axes>"
      ]
     },
     "metadata": {
      "needs_background": "light"
     },
     "output_type": "display_data"
    }
   ],
   "source": [
    "# Obtenemos las distribuciones conjuntas \n",
    "plt.rcParams['figure.figsize'] = (15, 5)\n",
    "\n",
    "# Para la variable charges\n",
    "plt.hist(smoke['charges'],label='smoker_charges',color='black',bins=15)\n",
    "plt.hist(no_smoke['charges'],label='no smoker_charges',color='red',bins=15,histtype='step')\n",
    "\n",
    "plt.legend()\n",
    "plt.show()"
   ]
  },
  {
   "cell_type": "code",
   "execution_count": 10,
   "id": "d3e3ba19",
   "metadata": {},
   "outputs": [
    {
     "data": {
      "image/png": "[encoded data removed]",
      "text/plain": [
       "<Figure size 1080x360 with 1 Axes>"
      ]
     },
     "metadata": {
      "needs_background": "light"
     },
     "output_type": "display_data"
    }
   ],
   "source": [
    "# Obtenemos las distribuciones conjuntas \n",
    "plt.rcParams['figure.figsize'] = (15, 5)\n",
    "\n",
    "# Para la variable ages\n",
    "plt.hist(smoke['age'],label='smoker_ages',color='grey',bins=15)\n",
    "plt.hist(no_smoke['age'],label='no smoker_ages',color='blue',bins=15,histtype='step')\n",
    "\n",
    "plt.legend()\n",
    "plt.show()"
   ]
  },
  {
   "cell_type": "markdown",
   "id": "a5f226b5",
   "metadata": {},
   "source": [
    "### Pregunta 4: \n",
    "Graficar la matriz de correlación entre las variables incluyendo la variable “charges”\n"
   ]
  },
  {
   "cell_type": "code",
   "execution_count": 11,
   "id": "8fc0b488",
   "metadata": {
    "scrolled": true
   },
   "outputs": [
    {
     "data": {
      "text/html": [
       "<div>\n",
       "<style scoped>\n",
       "    .dataframe tbody tr th:only-of-type {\n",
       "        vertical-align: middle;\n",
       "    }\n",
       "\n",
       "    .dataframe tbody tr th {\n",
       "        vertical-align: top;\n",
       "    }\n",
       "\n",
       "    .dataframe thead th {\n",
       "        text-align: right;\n",
       "    }\n",
       "</style>\n",
       "<table border=\"1\" class=\"dataframe\">\n",
       "  <thead>\n",
       "    <tr style=\"text-align: right;\">\n",
       "      <th></th>\n",
       "      <th>age</th>\n",
       "      <th>sex</th>\n",
       "      <th>bmi</th>\n",
       "      <th>children</th>\n",
       "      <th>smoker</th>\n",
       "      <th>charges</th>\n",
       "      <th>region_northeast</th>\n",
       "      <th>region_northwest</th>\n",
       "      <th>region_southeast</th>\n",
       "      <th>region_southwest</th>\n",
       "    </tr>\n",
       "  </thead>\n",
       "  <tbody>\n",
       "    <tr>\n",
       "      <th>0</th>\n",
       "      <td>19</td>\n",
       "      <td>0</td>\n",
       "      <td>27.900</td>\n",
       "      <td>0</td>\n",
       "      <td>1</td>\n",
       "      <td>16884.92400</td>\n",
       "      <td>0</td>\n",
       "      <td>0</td>\n",
       "      <td>0</td>\n",
       "      <td>1</td>\n",
       "    </tr>\n",
       "    <tr>\n",
       "      <th>1</th>\n",
       "      <td>18</td>\n",
       "      <td>1</td>\n",
       "      <td>33.770</td>\n",
       "      <td>1</td>\n",
       "      <td>0</td>\n",
       "      <td>1725.55230</td>\n",
       "      <td>0</td>\n",
       "      <td>0</td>\n",
       "      <td>1</td>\n",
       "      <td>0</td>\n",
       "    </tr>\n",
       "    <tr>\n",
       "      <th>2</th>\n",
       "      <td>28</td>\n",
       "      <td>1</td>\n",
       "      <td>33.000</td>\n",
       "      <td>3</td>\n",
       "      <td>0</td>\n",
       "      <td>4449.46200</td>\n",
       "      <td>0</td>\n",
       "      <td>0</td>\n",
       "      <td>1</td>\n",
       "      <td>0</td>\n",
       "    </tr>\n",
       "    <tr>\n",
       "      <th>3</th>\n",
       "      <td>33</td>\n",
       "      <td>1</td>\n",
       "      <td>22.705</td>\n",
       "      <td>0</td>\n",
       "      <td>0</td>\n",
       "      <td>21984.47061</td>\n",
       "      <td>0</td>\n",
       "      <td>1</td>\n",
       "      <td>0</td>\n",
       "      <td>0</td>\n",
       "    </tr>\n",
       "    <tr>\n",
       "      <th>4</th>\n",
       "      <td>32</td>\n",
       "      <td>1</td>\n",
       "      <td>28.880</td>\n",
       "      <td>0</td>\n",
       "      <td>0</td>\n",
       "      <td>3866.85520</td>\n",
       "      <td>0</td>\n",
       "      <td>1</td>\n",
       "      <td>0</td>\n",
       "      <td>0</td>\n",
       "    </tr>\n",
       "  </tbody>\n",
       "</table>\n",
       "</div>"
      ],
      "text/plain": [
       "   age  sex     bmi  children  smoker      charges  region_northeast  \\\n",
       "0   19    0  27.900         0       1  16884.92400                 0   \n",
       "1   18    1  33.770         1       0   1725.55230                 0   \n",
       "2   28    1  33.000         3       0   4449.46200                 0   \n",
       "3   33    1  22.705         0       0  21984.47061                 0   \n",
       "4   32    1  28.880         0       0   3866.85520                 0   \n",
       "\n",
       "   region_northwest  region_southeast  region_southwest  \n",
       "0                 0                 0                 1  \n",
       "1                 0                 1                 0  \n",
       "2                 0                 1                 0  \n",
       "3                 1                 0                 0  \n",
       "4                 1                 0                 0  "
      ]
     },
     "execution_count": 11,
     "metadata": {},
     "output_type": "execute_result"
    }
   ],
   "source": [
    "# Primero debemos realizar la transformación de variables categoricas a numéricas \n",
    "\n",
    "df_cat = pd.get_dummies(df, columns=['region'])\n",
    "df_cat['sex'] = df_cat['sex'].astype('category')\n",
    "df_cat['sex'] = df_cat['sex'].cat.codes\n",
    "df_cat['smoker'] = df_cat['smoker'].astype('category')\n",
    "df_cat['smoker'] = df_cat['smoker'].cat.codes\n",
    "df_cat.head()"
   ]
  },
  {
   "cell_type": "code",
   "execution_count": 12,
   "id": "41eb85e5",
   "metadata": {},
   "outputs": [],
   "source": [
    "# Importar seaborn\n",
    "import seaborn as sns "
   ]
  },
  {
   "cell_type": "code",
   "execution_count": 13,
   "id": "7ed225e8",
   "metadata": {},
   "outputs": [
    {
     "data": {
      "image/png": "[encoded data removed]",
      "text/plain": [
       "<Figure size 864x576 with 2 Axes>"
      ]
     },
     "metadata": {
      "needs_background": "light"
     },
     "output_type": "display_data"
    }
   ],
   "source": [
    "corr_df = df_cat.corr(method='pearson')\n",
    "\n",
    "plt.figure(figsize=(12, 8))\n",
    "sns.heatmap(corr_df, annot=True)\n",
    "plt.show()"
   ]
  },
  {
   "cell_type": "markdown",
   "id": "fd6bf21c",
   "metadata": {},
   "source": [
    "### Pregunta 5: \n",
    "Ajustar los siguientes modelos de regresión y encontrar las métricas de $R^2$ para cada uno \n",
    "de ellos (se debe predecir la variable “charges”).\n",
    "      \n",
    "    a. Linear Regression\n",
    "    b. Ridge Regression\n",
    "    c. Lasso Regression\n",
    "    d. KNN regression"
   ]
  },
  {
   "cell_type": "markdown",
   "id": "c82939db",
   "metadata": {},
   "source": [
    "Primero realizaremos el ajuste a los modelos de regresión con todas las variables del dataset y posteriormente se realizará una elección de variables por medio de los resulatados de la matriz de correlación."
   ]
  },
  {
   "cell_type": "markdown",
   "id": "f7eeec58",
   "metadata": {},
   "source": [
    "### Todas las variables"
   ]
  },
  {
   "cell_type": "code",
   "execution_count": 14,
   "id": "9b4ddf20",
   "metadata": {},
   "outputs": [],
   "source": [
    "# Importar librerías de sklearn\n",
    "from sklearn.linear_model import LinearRegression\n",
    "from sklearn.model_selection import train_test_split\n",
    "\n",
    "# Definir X e y\n",
    "X = df_cat.drop(columns='charges', axis=1)\n",
    "y = df_cat['charges']"
   ]
  },
  {
   "cell_type": "code",
   "execution_count": 15,
   "id": "04ce7d7c",
   "metadata": {
    "scrolled": true
   },
   "outputs": [
    {
     "data": {
      "text/html": [
       "<div>\n",
       "<style scoped>\n",
       "    .dataframe tbody tr th:only-of-type {\n",
       "        vertical-align: middle;\n",
       "    }\n",
       "\n",
       "    .dataframe tbody tr th {\n",
       "        vertical-align: top;\n",
       "    }\n",
       "\n",
       "    .dataframe thead th {\n",
       "        text-align: right;\n",
       "    }\n",
       "</style>\n",
       "<table border=\"1\" class=\"dataframe\">\n",
       "  <thead>\n",
       "    <tr style=\"text-align: right;\">\n",
       "      <th></th>\n",
       "      <th>age</th>\n",
       "      <th>sex</th>\n",
       "      <th>bmi</th>\n",
       "      <th>children</th>\n",
       "      <th>smoker</th>\n",
       "      <th>region_northeast</th>\n",
       "      <th>region_northwest</th>\n",
       "      <th>region_southeast</th>\n",
       "      <th>region_southwest</th>\n",
       "    </tr>\n",
       "  </thead>\n",
       "  <tbody>\n",
       "    <tr>\n",
       "      <th>0</th>\n",
       "      <td>19</td>\n",
       "      <td>0</td>\n",
       "      <td>27.900</td>\n",
       "      <td>0</td>\n",
       "      <td>1</td>\n",
       "      <td>0</td>\n",
       "      <td>0</td>\n",
       "      <td>0</td>\n",
       "      <td>1</td>\n",
       "    </tr>\n",
       "    <tr>\n",
       "      <th>1</th>\n",
       "      <td>18</td>\n",
       "      <td>1</td>\n",
       "      <td>33.770</td>\n",
       "      <td>1</td>\n",
       "      <td>0</td>\n",
       "      <td>0</td>\n",
       "      <td>0</td>\n",
       "      <td>1</td>\n",
       "      <td>0</td>\n",
       "    </tr>\n",
       "    <tr>\n",
       "      <th>2</th>\n",
       "      <td>28</td>\n",
       "      <td>1</td>\n",
       "      <td>33.000</td>\n",
       "      <td>3</td>\n",
       "      <td>0</td>\n",
       "      <td>0</td>\n",
       "      <td>0</td>\n",
       "      <td>1</td>\n",
       "      <td>0</td>\n",
       "    </tr>\n",
       "    <tr>\n",
       "      <th>3</th>\n",
       "      <td>33</td>\n",
       "      <td>1</td>\n",
       "      <td>22.705</td>\n",
       "      <td>0</td>\n",
       "      <td>0</td>\n",
       "      <td>0</td>\n",
       "      <td>1</td>\n",
       "      <td>0</td>\n",
       "      <td>0</td>\n",
       "    </tr>\n",
       "    <tr>\n",
       "      <th>4</th>\n",
       "      <td>32</td>\n",
       "      <td>1</td>\n",
       "      <td>28.880</td>\n",
       "      <td>0</td>\n",
       "      <td>0</td>\n",
       "      <td>0</td>\n",
       "      <td>1</td>\n",
       "      <td>0</td>\n",
       "      <td>0</td>\n",
       "    </tr>\n",
       "  </tbody>\n",
       "</table>\n",
       "</div>"
      ],
      "text/plain": [
       "   age  sex     bmi  children  smoker  region_northeast  region_northwest  \\\n",
       "0   19    0  27.900         0       1                 0                 0   \n",
       "1   18    1  33.770         1       0                 0                 0   \n",
       "2   28    1  33.000         3       0                 0                 0   \n",
       "3   33    1  22.705         0       0                 0                 1   \n",
       "4   32    1  28.880         0       0                 0                 1   \n",
       "\n",
       "   region_southeast  region_southwest  \n",
       "0                 0                 1  \n",
       "1                 1                 0  \n",
       "2                 1                 0  \n",
       "3                 0                 0  \n",
       "4                 0                 0  "
      ]
     },
     "execution_count": 15,
     "metadata": {},
     "output_type": "execute_result"
    }
   ],
   "source": [
    "X.head()"
   ]
  },
  {
   "cell_type": "code",
   "execution_count": 16,
   "id": "ea10c5c7",
   "metadata": {},
   "outputs": [
    {
     "data": {
      "text/plain": [
       "0    16884.92400\n",
       "1     1725.55230\n",
       "2     4449.46200\n",
       "3    21984.47061\n",
       "4     3866.85520\n",
       "Name: charges, dtype: float64"
      ]
     },
     "execution_count": 16,
     "metadata": {},
     "output_type": "execute_result"
    }
   ],
   "source": [
    "y.head()"
   ]
  },
  {
   "cell_type": "markdown",
   "id": "0a803caf",
   "metadata": {},
   "source": [
    "### Variables seleccionadas por la matriz de correlación"
   ]
  },
  {
   "cell_type": "code",
   "execution_count": 17,
   "id": "96849118",
   "metadata": {},
   "outputs": [],
   "source": [
    "# Tomamos solamente las variables con una correlación mayor a 0.1\n",
    "df_cat_corr = df_cat.drop(columns = ['sex','children','region_northeast','region_northwest',\n",
    "                                     'region_southeast','region_southwest'],axis=1)"
   ]
  },
  {
   "cell_type": "code",
   "execution_count": 18,
   "id": "6a980a07",
   "metadata": {},
   "outputs": [],
   "source": [
    "# Definir X e y\n",
    "X_ = df_cat_corr.drop(columns='charges', axis=1)\n",
    "y_ = df_cat_corr['charges']"
   ]
  },
  {
   "cell_type": "code",
   "execution_count": 19,
   "id": "0af75f9f",
   "metadata": {},
   "outputs": [
    {
     "data": {
      "text/html": [
       "<div>\n",
       "<style scoped>\n",
       "    .dataframe tbody tr th:only-of-type {\n",
       "        vertical-align: middle;\n",
       "    }\n",
       "\n",
       "    .dataframe tbody tr th {\n",
       "        vertical-align: top;\n",
       "    }\n",
       "\n",
       "    .dataframe thead th {\n",
       "        text-align: right;\n",
       "    }\n",
       "</style>\n",
       "<table border=\"1\" class=\"dataframe\">\n",
       "  <thead>\n",
       "    <tr style=\"text-align: right;\">\n",
       "      <th></th>\n",
       "      <th>age</th>\n",
       "      <th>bmi</th>\n",
       "      <th>smoker</th>\n",
       "    </tr>\n",
       "  </thead>\n",
       "  <tbody>\n",
       "    <tr>\n",
       "      <th>0</th>\n",
       "      <td>19</td>\n",
       "      <td>27.900</td>\n",
       "      <td>1</td>\n",
       "    </tr>\n",
       "    <tr>\n",
       "      <th>1</th>\n",
       "      <td>18</td>\n",
       "      <td>33.770</td>\n",
       "      <td>0</td>\n",
       "    </tr>\n",
       "    <tr>\n",
       "      <th>2</th>\n",
       "      <td>28</td>\n",
       "      <td>33.000</td>\n",
       "      <td>0</td>\n",
       "    </tr>\n",
       "    <tr>\n",
       "      <th>3</th>\n",
       "      <td>33</td>\n",
       "      <td>22.705</td>\n",
       "      <td>0</td>\n",
       "    </tr>\n",
       "    <tr>\n",
       "      <th>4</th>\n",
       "      <td>32</td>\n",
       "      <td>28.880</td>\n",
       "      <td>0</td>\n",
       "    </tr>\n",
       "  </tbody>\n",
       "</table>\n",
       "</div>"
      ],
      "text/plain": [
       "   age     bmi  smoker\n",
       "0   19  27.900       1\n",
       "1   18  33.770       0\n",
       "2   28  33.000       0\n",
       "3   33  22.705       0\n",
       "4   32  28.880       0"
      ]
     },
     "execution_count": 19,
     "metadata": {},
     "output_type": "execute_result"
    }
   ],
   "source": [
    "X_.head()"
   ]
  },
  {
   "cell_type": "code",
   "execution_count": 20,
   "id": "24b32743",
   "metadata": {},
   "outputs": [
    {
     "data": {
      "text/plain": [
       "0    16884.92400\n",
       "1     1725.55230\n",
       "2     4449.46200\n",
       "3    21984.47061\n",
       "4     3866.85520\n",
       "Name: charges, dtype: float64"
      ]
     },
     "execution_count": 20,
     "metadata": {},
     "output_type": "execute_result"
    }
   ],
   "source": [
    "y_.head()"
   ]
  },
  {
   "cell_type": "markdown",
   "id": "49ef85cc",
   "metadata": {},
   "source": [
    "#### Definición Datasets"
   ]
  },
  {
   "cell_type": "code",
   "execution_count": 21,
   "id": "65452898",
   "metadata": {},
   "outputs": [],
   "source": [
    "X_train, X_test, y_train, y_test = train_test_split(X,y, random_state=42)    # Sets de entrenamiento Completo\n",
    "X_train_, X_test_, y_train_, y_test_ = train_test_split(X_,y_, random_state=42)    # Sets de entrenamiento Selecto"
   ]
  },
  {
   "cell_type": "markdown",
   "id": "3581ac81",
   "metadata": {},
   "source": [
    "## Estandarización de datos"
   ]
  },
  {
   "cell_type": "code",
   "execution_count": 22,
   "id": "f0dabcb9",
   "metadata": {},
   "outputs": [],
   "source": [
    "# stand_cols= [\"age\", \"bmi\"]\n",
    "stand_cols = X.columns\n",
    "stand_cols_ = X_.columns\n",
    "\n",
    "# Estandarizar los datos:\n",
    "from sklearn.preprocessing import StandardScaler\n",
    "\n",
    "scaler= StandardScaler().fit(X_train.loc[:, stand_cols])\n",
    "\n",
    "X_train.loc[:, stand_cols]= scaler.transform(X_train.loc[:, stand_cols])\n",
    "X_test.loc[:, stand_cols]= scaler.transform(X_test.loc[:, stand_cols])\n",
    "\n",
    "scaler_= StandardScaler().fit(X_train_.loc[:, stand_cols_])\n",
    "X_train_.loc[:, stand_cols_]= scaler_.transform(X_train_.loc[:, stand_cols_])\n",
    "X_test_.loc[:, stand_cols_]= scaler_.transform(X_test_.loc[:, stand_cols_])"
   ]
  },
  {
   "cell_type": "markdown",
   "id": "fd27578a",
   "metadata": {},
   "source": [
    "## Ajuste de modelos"
   ]
  },
  {
   "cell_type": "code",
   "execution_count": 23,
   "id": "61cfbff3",
   "metadata": {},
   "outputs": [],
   "source": [
    "# Función para obtener los score y métricas de los distintos modelos de regresión\n",
    "from sklearn.metrics import r2_score\n",
    "from sklearn import metrics\n",
    "from sklearn.linear_model import Ridge\n",
    "from sklearn.linear_model import RidgeCV\n",
    "from sklearn.linear_model import Lasso\n",
    "from sklearn.neighbors import KNeighborsRegressor\n",
    "def regression_predict(data,\n",
    "                       X_train,X_test,y_train,y_test,\n",
    "                      reg_type):\n",
    "    # Selección HyperP\n",
    "    if reg_type == 'Ridge':\n",
    "        selection = int(input('Ridge: Alpha?'))\n",
    "        alfa_r = selection if selection != 0 else 2\n",
    "\n",
    "    elif reg_type == 'Lasso':\n",
    "        selection = input('Lasso: Alpha?')\n",
    "        alfa_l = selection if selection != 0 else 0.001\n",
    "    elif reg_type == 'KNN':\n",
    "        selection = int(input('KNN: n Vecinos?'))\n",
    "        n_neigh = selection if selection != 0 else 4\n",
    "        \n",
    "    # Definir diccionario de modelos\n",
    "    alphas = 10.**np.arange(-2,3)    #Rango de alfa para RidgeCV\n",
    "    alfa_r = 2\n",
    "    alfa_l = 0.001\n",
    "    n_neigh = 5\n",
    "    regressions = {'Linear': LinearRegression(),\n",
    "                   'Ridge': Ridge(alpha=alfa_r, normalize=True),\n",
    "                   'RidgeCV': RidgeCV(alphas=alphas, normalize=True, scoring='r2'),\n",
    "                   'Lasso': Lasso(alpha=alfa_l, normalize=True) ,\n",
    "                   'KNN': KNeighborsRegressor(n_neighbors=n_neigh)}\n",
    "    # Ajustar y obtener la predicción \n",
    "    model = regressions[reg_type]\n",
    "    model.fit(X_train,y_train)    # Ajuste\n",
    "    y_pred_train = model.predict(X_train)   # Pred-Entrenamiento\n",
    "    y_pred = model.predict(X_test)   # Pred-Validación\n",
    "    if reg_type == 'RidgeCV':\n",
    "        print('RidgeCV: Alfa adecuada \\n')\n",
    "        print(model.alpha_)\n",
    "    elif reg_type == 'Lasso':\n",
    "        print('Lasso: Coeficientes')\n",
    "        print(model.coef_)\n",
    "    \n",
    "    print(data+' '+reg_type+' Model Resultados --------'+'\\n')\n",
    "    # Verificar sub/sobre ajuste\n",
    "    print('¿Sobre/sub ajuste?')\n",
    "    print(f'Train score: {model.score(X_train,y_train)}')\n",
    "    print(f'Test score: {model.score(X_test,y_test)}'+'\\n'+'\\n')\n",
    "\n",
    "    # Calcular el score R^2\n",
    "    model_score = r2_score(y_test,y_pred)\n",
    "    print(\"R-Square Value\",r2_score(y_test,y_pred))\n",
    "    print (\"mean_absolute_error :\",metrics.mean_absolute_error(y_test, y_pred))\n",
    "    print (\"mean_squared_error : \",metrics.mean_squared_error(y_test, y_pred))\n",
    "    print (\"root_mean_squared_error : \",np.sqrt(metrics.mean_squared_error(y_test, y_pred)))\n",
    "    return model_score"
   ]
  },
  {
   "cell_type": "markdown",
   "id": "a813d079",
   "metadata": {},
   "source": [
    "### Linear Regression"
   ]
  },
  {
   "cell_type": "code",
   "execution_count": 24,
   "id": "dcb10800",
   "metadata": {},
   "outputs": [],
   "source": [
    "# Importar librerías de sklearn\n",
    "from sklearn.linear_model import LinearRegression\n",
    "from sklearn.model_selection import train_test_split\n",
    "model = 'Linear'"
   ]
  },
  {
   "cell_type": "code",
   "execution_count": 25,
   "id": "235055f4",
   "metadata": {},
   "outputs": [
    {
     "name": "stdout",
     "output_type": "stream",
     "text": [
      "Complete Data Linear Model Resultados --------\n",
      "\n",
      "¿Sobre/sub ajuste?\n",
      "Train score: 0.7449392471166407\n",
      "Test score: 0.7670199812349241\n",
      "\n",
      "\n",
      "R-Square Value 0.7670199812349241\n",
      "mean_absolute_error : 4246.145686975891\n",
      "mean_squared_error :  35154620.559853144\n",
      "root_mean_squared_error :  5929.133204765529\n"
     ]
    }
   ],
   "source": [
    "linear_score = regression_predict('Complete Data',X_train,X_test,y_train,y_test, model)"
   ]
  },
  {
   "cell_type": "code",
   "execution_count": 26,
   "id": "ca828d12",
   "metadata": {},
   "outputs": [
    {
     "name": "stdout",
     "output_type": "stream",
     "text": [
      "Selected Data Linear Model Resultados --------\n",
      "\n",
      "¿Sobre/sub ajuste?\n",
      "Train score: 0.7422732113805752\n",
      "Test score: 0.7622843807642006\n",
      "\n",
      "\n",
      "R-Square Value 0.7622843807642006\n",
      "mean_absolute_error : 4301.327214279142\n",
      "mean_squared_error :  35869180.71206611\n",
      "root_mean_squared_error :  5989.088470883204\n"
     ]
    }
   ],
   "source": [
    "linear_score_ = regression_predict('Selected Data',X_train_,X_test_,y_train_,y_test_, model)"
   ]
  },
  {
   "cell_type": "markdown",
   "id": "0d4d533b",
   "metadata": {},
   "source": [
    "### Ridge Regression"
   ]
  },
  {
   "cell_type": "code",
   "execution_count": 27,
   "id": "759676ac",
   "metadata": {},
   "outputs": [],
   "source": [
    "from sklearn.linear_model import Ridge\n",
    "model = 'Ridge'"
   ]
  },
  {
   "cell_type": "code",
   "execution_count": 28,
   "id": "0bb6774d",
   "metadata": {},
   "outputs": [
    {
     "name": "stdout",
     "output_type": "stream",
     "text": [
      "Ridge: Alpha?2\n",
      "Complete Data Ridge Model Resultados --------\n",
      "\n",
      "¿Sobre/sub ajuste?\n",
      "Train score: 0.41341843415465607\n",
      "Test score: 0.42067620671072636\n",
      "\n",
      "\n",
      "R-Square Value 0.42067620671072636\n",
      "mean_absolute_error : 6955.750230643567\n",
      "mean_squared_error :  87414827.4273901\n",
      "root_mean_squared_error :  9349.589692996698\n",
      "\n",
      " \n",
      "\n",
      "Ridge: Alpha?2\n",
      "Selected Data Ridge Model Resultados --------\n",
      "\n",
      "¿Sobre/sub ajuste?\n",
      "Train score: 0.41030661681932223\n",
      "Test score: 0.41677379047815477\n",
      "\n",
      "\n",
      "R-Square Value 0.41677379047815477\n",
      "mean_absolute_error : 6973.150413627455\n",
      "mean_squared_error :  88003667.46032442\n",
      "root_mean_squared_error :  9381.026993902342\n"
     ]
    }
   ],
   "source": [
    "ridge_score = regression_predict('Complete Data',X_train,X_test,y_train,y_test, model)\n",
    "print('\\n \\n')\n",
    "ridge_score_ = regression_predict('Selected Data',X_train_,X_test_,y_train_,y_test_, model)"
   ]
  },
  {
   "cell_type": "markdown",
   "id": "a6438ef5",
   "metadata": {},
   "source": [
    "### Ridge CV"
   ]
  },
  {
   "cell_type": "code",
   "execution_count": 29,
   "id": "7ead1c08",
   "metadata": {},
   "outputs": [],
   "source": [
    "from sklearn.linear_model import RidgeCV\n",
    "model = 'RidgeCV'"
   ]
  },
  {
   "cell_type": "code",
   "execution_count": 30,
   "id": "b19aded5",
   "metadata": {},
   "outputs": [
    {
     "name": "stdout",
     "output_type": "stream",
     "text": [
      "RidgeCV: Alfa adecuada \n",
      "\n",
      "0.01\n",
      "Complete Data RidgeCV Model Resultados --------\n",
      "\n",
      "¿Sobre/sub ajuste?\n",
      "Train score: 0.7448806091188018\n",
      "Test score: 0.76683724539178\n",
      "\n",
      "\n",
      "R-Square Value 0.76683724539178\n",
      "mean_absolute_error : 4259.096794293714\n",
      "mean_squared_error :  35182193.77949004\n",
      "root_mean_squared_error :  5931.457980925941\n",
      "\n",
      " \n",
      "\n",
      "RidgeCV: Alfa adecuada \n",
      "\n",
      "0.01\n",
      "Selected Data RidgeCV Model Resultados --------\n",
      "\n",
      "¿Sobre/sub ajuste?\n",
      "Train score: 0.7421988158489006\n",
      "Test score: 0.7619944106890545\n",
      "\n",
      "\n",
      "R-Square Value 0.7619944106890545\n",
      "mean_absolute_error : 4315.854578488647\n",
      "mean_squared_error :  35912934.62718511\n",
      "root_mean_squared_error :  5992.740160159216\n"
     ]
    }
   ],
   "source": [
    "ridgecv_score = regression_predict('Complete Data',X_train,X_test,y_train,y_test, model)\n",
    "print('\\n \\n')\n",
    "ridgecv_score_ = regression_predict('Selected Data',X_train_,X_test_,y_train_,y_test_, model)"
   ]
  },
  {
   "cell_type": "markdown",
   "id": "4e755907",
   "metadata": {},
   "source": [
    "### Lasso Regression"
   ]
  },
  {
   "cell_type": "code",
   "execution_count": 31,
   "id": "fe6a76ca",
   "metadata": {},
   "outputs": [],
   "source": [
    "from sklearn.linear_model import Lasso\n",
    "model = 'Lasso'"
   ]
  },
  {
   "cell_type": "code",
   "execution_count": 32,
   "id": "7a47a05c",
   "metadata": {},
   "outputs": [
    {
     "name": "stdout",
     "output_type": "stream",
     "text": [
      "Lasso: Alpha?0.001\n",
      "Lasso: Coeficientes\n",
      "[3643.04013329   22.78288168 2042.22154461  513.49036105 9546.22029749\n",
      "  325.07465523  170.08980312  -13.45976961  -47.24831825]\n",
      "Complete Data Lasso Model Resultados --------\n",
      "\n",
      "¿Sobre/sub ajuste?\n",
      "Train score: 0.7449555327652855\n",
      "Test score: 0.7672640315451156\n",
      "\n",
      "\n",
      "R-Square Value 0.7672640315451156\n",
      "mean_absolute_error : 4243.653599362271\n",
      "mean_squared_error :  35117795.5304031\n",
      "root_mean_squared_error :  5926.026959979435\n",
      "\n",
      " \n",
      "\n",
      "Lasso: Alpha?0.001\n",
      "Lasso: Coeficientes\n",
      "[3678.41571112 1963.62543196 9561.61019378]\n",
      "Selected Data Lasso Model Resultados --------\n",
      "\n",
      "¿Sobre/sub ajuste?\n",
      "Train score: 0.7422732113606871\n",
      "Test score: 0.7622843795165404\n",
      "\n",
      "\n",
      "R-Square Value 0.7622843795165404\n",
      "mean_absolute_error : 4301.324211383094\n",
      "mean_squared_error :  35869180.90032696\n",
      "root_mean_squared_error :  5989.088486600191\n"
     ]
    }
   ],
   "source": [
    "lasso_score = regression_predict('Complete Data',X_train,X_test,y_train,y_test, model)\n",
    "print('\\n \\n')\n",
    "lasso_score_ = regression_predict('Selected Data',X_train_,X_test_,y_train_,y_test_, model)"
   ]
  },
  {
   "cell_type": "markdown",
   "id": "dcdb0006",
   "metadata": {},
   "source": [
    "### KNN Regression"
   ]
  },
  {
   "cell_type": "code",
   "execution_count": 33,
   "id": "b59ea417",
   "metadata": {},
   "outputs": [],
   "source": [
    "from sklearn.neighbors import KNeighborsRegressor\n",
    "model = 'KNN'"
   ]
  },
  {
   "cell_type": "code",
   "execution_count": 34,
   "id": "32031727",
   "metadata": {},
   "outputs": [
    {
     "name": "stdout",
     "output_type": "stream",
     "text": [
      "KNN: n Vecinos?5\n",
      "Complete Data KNN Model Resultados --------\n",
      "\n",
      "¿Sobre/sub ajuste?\n",
      "Train score: 0.8582803964823551\n",
      "Test score: 0.7975685156773892\n",
      "\n",
      "\n",
      "R-Square Value 0.7975685156773892\n",
      "mean_absolute_error : 3485.4959269641786\n",
      "mean_squared_error :  30545117.381525457\n",
      "root_mean_squared_error :  5526.763734910825\n",
      "\n",
      " \n",
      "\n",
      "KNN: n Vecinos?5\n",
      "Selected Data KNN Model Resultados --------\n",
      "\n",
      "¿Sobre/sub ajuste?\n",
      "Train score: 0.8754409053087155\n",
      "Test score: 0.8422277958447706\n",
      "\n",
      "\n",
      "R-Square Value 0.8422277958447706\n",
      "mean_absolute_error : 2760.2704911492538\n",
      "mean_squared_error :  23806427.698683817\n",
      "root_mean_squared_error :  4879.183097474804\n"
     ]
    }
   ],
   "source": [
    "knn_score = regression_predict('Complete Data',X_train,X_test,y_train,y_test, model)\n",
    "print('\\n \\n')\n",
    "knn_score_ = regression_predict('Selected Data',X_train_,X_test_,y_train_,y_test_, model)"
   ]
  },
  {
   "cell_type": "markdown",
   "id": "b6150be3",
   "metadata": {},
   "source": [
    "### Pregunta 6: \n",
    "¿Cuáles son las mejores variables para la predicción de “charges”?\n",
    "\n",
    "**R:** Tras comparar el ajuste de los modelos con todas las variables y con una selección de variables de acuerdo a la correlación con la variable  `charges` podemos obtener un score para cada caso. A continuación se muestra una tabla comparando el score entre ambos acercamientos."
   ]
  },
  {
   "cell_type": "code",
   "execution_count": 35,
   "id": "d7a447cb",
   "metadata": {},
   "outputs": [],
   "source": [
    "complete_scores = [linear_score,ridge_score,ridgecv_score,lasso_score,knn_score]\n",
    "selected_scores = [linear_score_,ridge_score_,ridgecv_score_,lasso_score_,knn_score_]\n",
    "df = pd.DataFrame({'Modelo':['Lineal','Ridge','RidgeCV','Lasso','KNN'],\n",
    "                   'Score Completo': complete_scores,\n",
    "                  'Score Selecto': selected_scores,\n",
    "                  'Score Abs Diff [%]': 100*abs(np.array(complete_scores)-np.array(selected_scores)),\n",
    "                  'Score Diff Squared [%]': 100*(np.array(complete_scores)-np.array(selected_scores))**2})"
   ]
  },
  {
   "cell_type": "code",
   "execution_count": 36,
   "id": "155e4cf7",
   "metadata": {},
   "outputs": [
    {
     "data": {
      "text/html": [
       "<div>\n",
       "<style scoped>\n",
       "    .dataframe tbody tr th:only-of-type {\n",
       "        vertical-align: middle;\n",
       "    }\n",
       "\n",
       "    .dataframe tbody tr th {\n",
       "        vertical-align: top;\n",
       "    }\n",
       "\n",
       "    .dataframe thead th {\n",
       "        text-align: right;\n",
       "    }\n",
       "</style>\n",
       "<table border=\"1\" class=\"dataframe\">\n",
       "  <thead>\n",
       "    <tr style=\"text-align: right;\">\n",
       "      <th></th>\n",
       "      <th>Modelo</th>\n",
       "      <th>Score Completo</th>\n",
       "      <th>Score Selecto</th>\n",
       "      <th>Score Abs Diff [%]</th>\n",
       "      <th>Score Diff Squared [%]</th>\n",
       "    </tr>\n",
       "  </thead>\n",
       "  <tbody>\n",
       "    <tr>\n",
       "      <th>0</th>\n",
       "      <td>Lineal</td>\n",
       "      <td>0.767020</td>\n",
       "      <td>0.762284</td>\n",
       "      <td>0.473560</td>\n",
       "      <td>0.002243</td>\n",
       "    </tr>\n",
       "    <tr>\n",
       "      <th>1</th>\n",
       "      <td>Ridge</td>\n",
       "      <td>0.420676</td>\n",
       "      <td>0.416774</td>\n",
       "      <td>0.390242</td>\n",
       "      <td>0.001523</td>\n",
       "    </tr>\n",
       "    <tr>\n",
       "      <th>2</th>\n",
       "      <td>RidgeCV</td>\n",
       "      <td>0.766837</td>\n",
       "      <td>0.761994</td>\n",
       "      <td>0.484283</td>\n",
       "      <td>0.002345</td>\n",
       "    </tr>\n",
       "    <tr>\n",
       "      <th>3</th>\n",
       "      <td>Lasso</td>\n",
       "      <td>0.767264</td>\n",
       "      <td>0.762284</td>\n",
       "      <td>0.497965</td>\n",
       "      <td>0.002480</td>\n",
       "    </tr>\n",
       "    <tr>\n",
       "      <th>4</th>\n",
       "      <td>KNN</td>\n",
       "      <td>0.797569</td>\n",
       "      <td>0.842228</td>\n",
       "      <td>4.465928</td>\n",
       "      <td>0.199445</td>\n",
       "    </tr>\n",
       "  </tbody>\n",
       "</table>\n",
       "</div>"
      ],
      "text/plain": [
       "    Modelo  Score Completo  Score Selecto  Score Abs Diff [%]  \\\n",
       "0   Lineal        0.767020       0.762284            0.473560   \n",
       "1    Ridge        0.420676       0.416774            0.390242   \n",
       "2  RidgeCV        0.766837       0.761994            0.484283   \n",
       "3    Lasso        0.767264       0.762284            0.497965   \n",
       "4      KNN        0.797569       0.842228            4.465928   \n",
       "\n",
       "   Score Diff Squared [%]  \n",
       "0                0.002243  \n",
       "1                0.001523  \n",
       "2                0.002345  \n",
       "3                0.002480  \n",
       "4                0.199445  "
      ]
     },
     "execution_count": 36,
     "metadata": {},
     "output_type": "execute_result"
    }
   ],
   "source": [
    "df"
   ]
  },
  {
   "cell_type": "markdown",
   "id": "cb0ea5e6",
   "metadata": {},
   "source": [
    "Podemos notar que, aunque a primera instancia pareciera que elegir menos variables de acuerdo a la matriz de correlación mejoraría el score del modelo, esta selección no tiene un gran impacto de acuerdo a la diferencia absoluta y cuadrada entre ambos casos para todos los modelos, salvo la regresión por vecinos cercanos. Por lo tanto, las variables `age`, `bmi` y `smoker` son las mejores para el modelo KNN Regression."
   ]
  },
  {
   "cell_type": "markdown",
   "id": "a5a282ac",
   "metadata": {},
   "source": [
    "### Pregunta 7:\n",
    "Discuta cuál modelo entrega mejor predictibilidad y por qué"
   ]
  },
  {
   "cell_type": "markdown",
   "id": "766b78b0",
   "metadata": {},
   "source": [
    "De acuerdo a la tabla de scores anterior, notamos que el mejor modelo es el KNNRegressor utilizando solo las variables `age`, `bmi` y `smoker`. Bastaría realizar una selección de hiperparámetros "
   ]
  },
  {
   "cell_type": "code",
   "execution_count": 37,
   "id": "022cd5d9",
   "metadata": {},
   "outputs": [],
   "source": [
    "def regression_scores(data,\n",
    "                       X_train,X_test,y_train,y_test,\n",
    "                      reg_type,**kwargs):\n",
    "    # Selección de HiperP\n",
    "    HPar = {'alfa_r': 2,'alfa_l': 0.001,'k_neigh': 5}\n",
    "    for key,value in kwargs.items():\n",
    "        HPar[key] = value\n",
    "    # Definir diccionario de modelos\n",
    "    alphas = 10.**np.arange(-2,3)    #Rango de alfa para RidgeCV\n",
    "    regressions = {'Linear': LinearRegression(),\n",
    "                   'Ridge': Ridge(alpha=HPar['alfa_r'], normalize=True),\n",
    "                   'RidgeCV': RidgeCV(alphas=alphas, normalize=True, scoring='r2'),\n",
    "                   'Lasso': Lasso(alpha=HPar['alfa_l'], normalize=True) ,\n",
    "                   'KNN': KNeighborsRegressor(n_neighbors=HPar['n_neigh'])}\n",
    "    # Ajustar y obtener la predicción \n",
    "    model = regressions[reg_type]\n",
    "    model.fit(X_train,y_train)    # Ajuste\n",
    "    y_pred_train = model.predict(X_train)   # Pred-Entrenamiento\n",
    "    y_pred = model.predict(X_test)   # Pred-Validación\n",
    "    if reg_type == 'RidgeCV':\n",
    "        print('RidgeCV: Alfa adecuada \\n')\n",
    "        print(model.alpha_)\n",
    "    elif reg_type == 'Lasso':\n",
    "        print('Lasso: Coeficientes')\n",
    "        print(model.coef_)\n",
    "    \n",
    "    print(data+' '+reg_type+' Model Resultados --------'+'\\n')\n",
    "    # Verificar sub/sobre ajuste\n",
    "    print('¿Sobre/sub ajuste?')\n",
    "    print(f'Train score: {model.score(X_train,y_train)}')\n",
    "    print(f'Test score: {model.score(X_test,y_test)}'+'\\n'+'\\n')\n",
    "\n",
    "    # Calcular el score R^2\n",
    "    model_score = r2_score(y_test,y_pred)\n",
    "    print(\"R-Square Value\",r2_score(y_test,y_pred))\n",
    "#     print (\"mean_absolute_error :\",metrics.mean_absolute_error(y_test, y_pred))\n",
    "#     print (\"mean_squared_error : \",metrics.mean_squared_error(y_test, y_pred))\n",
    "#     print (\"root_mean_squared_error : \",np.sqrt(metrics.mean_squared_error(y_test, y_pred)))\n",
    "    return np.array([model.score(X_train,y_train), model.score(X_test,y_test)])"
   ]
  },
  {
   "cell_type": "code",
   "execution_count": 38,
   "id": "8f26c62f",
   "metadata": {},
   "outputs": [
    {
     "name": "stdout",
     "output_type": "stream",
     "text": [
      "Selected 5-vecinos KNN Model Resultados --------\n",
      "\n",
      "¿Sobre/sub ajuste?\n",
      "Train score: 0.8754409053087155\n",
      "Test score: 0.8422277958447706\n",
      "\n",
      "\n",
      "R-Square Value 0.8422277958447706\n",
      "Selected 6-vecinos KNN Model Resultados --------\n",
      "\n",
      "¿Sobre/sub ajuste?\n",
      "Train score: 0.8731284336119343\n",
      "Test score: 0.8467227674855436\n",
      "\n",
      "\n",
      "R-Square Value 0.8467227674855436\n",
      "Selected 7-vecinos KNN Model Resultados --------\n",
      "\n",
      "¿Sobre/sub ajuste?\n",
      "Train score: 0.8715873008408817\n",
      "Test score: 0.8505504039200776\n",
      "\n",
      "\n",
      "R-Square Value 0.8505504039200776\n",
      "Selected 8-vecinos KNN Model Resultados --------\n",
      "\n",
      "¿Sobre/sub ajuste?\n",
      "Train score: 0.8681839696761002\n",
      "Test score: 0.8550020803586365\n",
      "\n",
      "\n",
      "R-Square Value 0.8550020803586365\n",
      "Selected 9-vecinos KNN Model Resultados --------\n",
      "\n",
      "¿Sobre/sub ajuste?\n",
      "Train score: 0.8663529488138941\n",
      "Test score: 0.8595001396796969\n",
      "\n",
      "\n",
      "R-Square Value 0.859500139679697\n",
      "Selected 10-vecinos KNN Model Resultados --------\n",
      "\n",
      "¿Sobre/sub ajuste?\n",
      "Train score: 0.8642809840652672\n",
      "Test score: 0.8597578072828286\n",
      "\n",
      "\n",
      "R-Square Value 0.8597578072828286\n",
      "Selected 11-vecinos KNN Model Resultados --------\n",
      "\n",
      "¿Sobre/sub ajuste?\n",
      "Train score: 0.8618438292375001\n",
      "Test score: 0.8625889906404273\n",
      "\n",
      "\n",
      "R-Square Value 0.8625889906404273\n",
      "Selected 12-vecinos KNN Model Resultados --------\n",
      "\n",
      "¿Sobre/sub ajuste?\n",
      "Train score: 0.8605055646623965\n",
      "Test score: 0.8631532267464088\n",
      "\n",
      "\n",
      "R-Square Value 0.8631532267464089\n",
      "Selected 13-vecinos KNN Model Resultados --------\n",
      "\n",
      "¿Sobre/sub ajuste?\n",
      "Train score: 0.8573872435296719\n",
      "Test score: 0.8598057365335295\n",
      "\n",
      "\n",
      "R-Square Value 0.8598057365335295\n",
      "Selected 14-vecinos KNN Model Resultados --------\n",
      "\n",
      "¿Sobre/sub ajuste?\n",
      "Train score: 0.857114056905486\n",
      "Test score: 0.8610976996609574\n",
      "\n",
      "\n",
      "R-Square Value 0.8610976996609575\n",
      "Selected 15-vecinos KNN Model Resultados --------\n",
      "\n",
      "¿Sobre/sub ajuste?\n",
      "Train score: 0.855056357550576\n",
      "Test score: 0.8604403423013753\n",
      "\n",
      "\n",
      "R-Square Value 0.8604403423013753\n"
     ]
    }
   ],
   "source": [
    "n_vecinos = np.arange(5,16)\n",
    "kvecinos_scores = []\n",
    "for k in n_vecinos:\n",
    "    s = regression_scores(f'Selected {k}-vecinos',X_train_,X_test_,y_train_,y_test_,'KNN',n_neigh=k)\n",
    "    kvecinos_scores.append(s)\n",
    "kvecinos_scores = np.array(kvecinos_scores)"
   ]
  },
  {
   "cell_type": "code",
   "execution_count": 39,
   "id": "112f211d",
   "metadata": {},
   "outputs": [
    {
     "data": {
      "image/png": "[encoded data removed]",
      "text/plain": [
       "<Figure size 1080x360 with 1 Axes>"
      ]
     },
     "metadata": {
      "needs_background": "light"
     },
     "output_type": "display_data"
    }
   ],
   "source": [
    "plt.plot(n_vecinos,kvecinos_scores[:,0],'.-',label='Train score',c='red')\n",
    "plt.plot(n_vecinos,kvecinos_scores[:,1],'.-',label='Test score',c='blue')\n",
    "plt.legend()\n",
    "plt.title('Vista al sobre ajuste KNN')\n",
    "plt.show()"
   ]
  },
  {
   "cell_type": "code",
   "execution_count": 40,
   "id": "de47a942",
   "metadata": {},
   "outputs": [
    {
     "data": {
      "text/plain": [
       "KNeighborsRegressor(algorithm='auto', leaf_size=30, metric='minkowski',\n",
       "                    metric_params=None, n_jobs=None, n_neighbors=12, p=2,\n",
       "                    weights='uniform')"
      ]
     },
     "execution_count": 40,
     "metadata": {},
     "output_type": "execute_result"
    }
   ],
   "source": [
    "# Generar modelo elegido\n",
    "final_model = KNeighborsRegressor(n_neighbors=12)\n",
    "final_model.fit(X_train_,y_train_)"
   ]
  },
  {
   "cell_type": "markdown",
   "id": "faef0a38",
   "metadata": {},
   "source": [
    "**R:** De la gráfica anterior, decidimos que el mejor modelo es un KNN-Regressor con 11 vecinos ya que es el modelo que ofrece un mayor score (coeficiente $R^2$) con un buen balance entre sesgo y varianza. Sabemos que el modelo no se encuentra sub ni sobreajustado debido a que los score en entrenamiento y prueba son similares. Se trata de un modelo aceptable con un score de 0.86 que si bien no podría ofrecer una solución completamente formidable al problema puede ser un muy buen baseline para contrastar con otros modelos más robustos como RandomForest. "
   ]
  },
  {
   "cell_type": "markdown",
   "id": "563ed422",
   "metadata": {},
   "source": [
    "### Pregunta 8:\n",
    "Haga un resumen ejecutivo de los resultados del modelo para presentar a una\n",
    "audiencia de negocio "
   ]
  },
  {
   "cell_type": "code",
   "execution_count": 41,
   "id": "43651d21",
   "metadata": {},
   "outputs": [
    {
     "data": {
      "text/plain": [
       "Text(0.5, 1.0, 'Gráfico 1')"
      ]
     },
     "execution_count": 41,
     "metadata": {},
     "output_type": "execute_result"
    },
    {
     "data": {
      "image/png": "[encoded data removed]",
      "text/plain": [
       "<Figure size 504x504 with 1 Axes>"
      ]
     },
     "metadata": {
      "needs_background": "light"
     },
     "output_type": "display_data"
    }
   ],
   "source": [
    "y_predict = final_model.predict(X_test_)\n",
    "error = 0.1*y_test_.mean()\n",
    "\n",
    "e_bar = y_test_*0.1\n",
    "\n",
    "plt.rcParams['figure.figsize'] = (7.0, 7.0)\n",
    "fig,ax = plt.subplots()\n",
    "ax.plot([y_test_.mean(),y_test_.mean()],[0,y_test_.max()],\n",
    "         '--',c='cyan',label=f'Promedio real ${np.round(y_test_.mean())}')\n",
    "ax.errorbar(y_test_,y_predict,yerr=e_bar,fmt='<',c='blue')\n",
    "ax.plot(y_test_,y_test_,c='black',label='Coincidencia')\n",
    "ax.set_ylabel('Predicción')\n",
    "ax.set_xlabel('Costo real')\n",
    "ax.yaxis.set_major_formatter('${x:1.0f}')\n",
    "ax.xaxis.set_major_formatter('${x:1.0f}')\n",
    "ax.grid()\n",
    "ax.legend()\n",
    "ax.set_title('Gráfico 1')"
   ]
  },
  {
   "cell_type": "code",
   "execution_count": 43,
   "id": "8040d908",
   "metadata": {},
   "outputs": [
    {
     "data": {
      "text/html": [
       "<div>\n",
       "<style scoped>\n",
       "    .dataframe tbody tr th:only-of-type {\n",
       "        vertical-align: middle;\n",
       "    }\n",
       "\n",
       "    .dataframe tbody tr th {\n",
       "        vertical-align: top;\n",
       "    }\n",
       "\n",
       "    .dataframe thead th {\n",
       "        text-align: right;\n",
       "    }\n",
       "</style>\n",
       "<table border=\"1\" class=\"dataframe\">\n",
       "  <thead>\n",
       "    <tr style=\"text-align: right;\">\n",
       "      <th></th>\n",
       "      <th>Predict</th>\n",
       "      <th>Real</th>\n",
       "    </tr>\n",
       "  </thead>\n",
       "  <tbody>\n",
       "    <tr>\n",
       "      <th>764</th>\n",
       "      <td>8451.109217</td>\n",
       "      <td>9095.06825</td>\n",
       "    </tr>\n",
       "    <tr>\n",
       "      <th>887</th>\n",
       "      <td>7073.634229</td>\n",
       "      <td>5272.17580</td>\n",
       "    </tr>\n",
       "    <tr>\n",
       "      <th>890</th>\n",
       "      <td>29673.456858</td>\n",
       "      <td>29330.98315</td>\n",
       "    </tr>\n",
       "    <tr>\n",
       "      <th>1293</th>\n",
       "      <td>10067.783177</td>\n",
       "      <td>9301.89355</td>\n",
       "    </tr>\n",
       "    <tr>\n",
       "      <th>259</th>\n",
       "      <td>34724.013357</td>\n",
       "      <td>33750.29180</td>\n",
       "    </tr>\n",
       "  </tbody>\n",
       "</table>\n",
       "</div>"
      ],
      "text/plain": [
       "           Predict         Real\n",
       "764    8451.109217   9095.06825\n",
       "887    7073.634229   5272.17580\n",
       "890   29673.456858  29330.98315\n",
       "1293  10067.783177   9301.89355\n",
       "259   34724.013357  33750.29180"
      ]
     },
     "execution_count": 43,
     "metadata": {},
     "output_type": "execute_result"
    }
   ],
   "source": [
    "result = pd.DataFrame({'Predict':y_predict,'Real':y_test_ })\n",
    "result.head()"
   ]
  },
  {
   "cell_type": "code",
   "execution_count": 44,
   "id": "c43fa0a4",
   "metadata": {},
   "outputs": [
    {
     "data": {
      "image/png": "[encoded data removed]",
      "text/plain": [
       "<Figure size 432x432 with 3 Axes>"
      ]
     },
     "metadata": {
      "needs_background": "light"
     },
     "output_type": "display_data"
    }
   ],
   "source": [
    "sns.jointplot(data=result, x='Real',y='Predict',\n",
    "              kind='hist')\n",
    "plt.title('Gráfico 2')\n",
    "plt.show()"
   ]
  },
  {
   "cell_type": "code",
   "execution_count": 45,
   "id": "0780653d",
   "metadata": {},
   "outputs": [
    {
     "data": {
      "image/png": "[encoded data removed]",
      "text/plain": [
       "<Figure size 432x432 with 3 Axes>"
      ]
     },
     "metadata": {
      "needs_background": "light"
     },
     "output_type": "display_data"
    }
   ],
   "source": [
    "g = sns.jointplot(data=result, x='Real',y='Predict')\n",
    "g.plot_joint(sns.kdeplot, color=\"cyan\", zorder=0, levels=6)\n",
    "g.plot_marginals(sns.rugplot, color=\"black\", height=-.15, clip_on=False)\n",
    "plt.title('Gráfico 3')\n",
    "plt.show()"
   ]
  },
  {
   "cell_type": "markdown",
   "id": "e2bbd00f",
   "metadata": {},
   "source": [
    "**R:** A lo largo de los 3 gráficos mostrados se contrasta el desempeño de predicción de costo del modelo elegido contra los costos reales. Pongamos atención al gráfico 1, aquí podemos ver una primera aproximación sobre la predicción de precios, todos los puntos rojos que se encuentren por encima de la línea naranja serán aquellos casos en los que el modelo predijo un costo mayor al real, mientras que los que estén por debajo serán predicciones por debajo del precio real. En este gráfico, un modelo ideal contaría con todos los puntos rojos dibujados a lo largo de la línea negra. Además, las barras azules muestran un intervalo de error para la predicción del modelo sobre el 10% del valor real, es decir, si alguna línea azul sobre el triángulo toca a la línea negra, el modelo habrá acertado en el precio real con un error menor al 10%. Inspeccionando el gráfico 1, notamos que la predicción del modelo es más certera para precios menores a \\\\$ 13,300 y para precios entre \\\\$40,000 y \\\\$50,000 ya que en estos intervalos las predicciones son muy cercanas a la real. \n",
    "\n",
    "Ahora, mirando los gráficos 2 y 3 notamos como las distribuciones (mostradas sobre los ejes)  de los costos reales y predichas son similares, es decir la forma de la distribución de costos se mantiene para los costos predichos. Adicionalmente, podemos apreciar el conjunto de predicciones que se encuentran alejadas del precio real,  primero como un mapa de calor y en el segundo como una agrupación de puntos. Esta observación es importante ya que dichas predicciones menores al precio real podrían significar pérdidas para el negocio ya que podrían estimarse precios menores a los que se tendrían que pagar. Sin embargo, el modelo predice con muy buenos resultados el precio para los precios más frecuentes dentro del negocio y para segmentos de costos altos. "
   ]
  }
 ],
 "metadata": {
  "kernelspec": {
   "display_name": "Python 3",
   "language": "python",
   "name": "python3"
  },
  "language_info": {
   "codemirror_mode": {
    "name": "ipython",
    "version": 3
   },
   "file_extension": ".py",
   "mimetype": "text/x-python",
   "name": "python",
   "nbconvert_exporter": "python",
   "pygments_lexer": "ipython3",
   "version": "3.8.8"
  }
 },
 "nbformat": 4,
 "nbformat_minor": 5
}
