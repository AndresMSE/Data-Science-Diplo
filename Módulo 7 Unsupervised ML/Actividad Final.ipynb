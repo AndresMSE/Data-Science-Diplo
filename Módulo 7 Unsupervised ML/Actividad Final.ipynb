{
 "cells": [
  {
   "cell_type": "markdown",
   "id": "8dc87dbe",
   "metadata": {},
   "source": [
    "# Actividad Final \n",
    "## Módulo 7: Aprendizaje no supervisado\n",
    "\n",
    "    Díaz Cuevas Bruno\n",
    "    Moreno Sánchez Ángel Andrés\n",
    "  "
   ]
  },
  {
   "cell_type": "markdown",
   "id": "7a67e9d5",
   "metadata": {},
   "source": [
    "### Objetivo:\n",
    " Utilizar diversos algoritmos vistos durante el módulo para aplicarlos sobre un conjunto de datos\n",
    "particular\n"
   ]
  },
  {
   "cell_type": "markdown",
   "id": "272f2c7e",
   "metadata": {},
   "source": [
    "### Instrucciones:\n",
    "Selecciona un conjunto de datos que hayas utilizado en alguna de las prácticas desarrolladas y aplica sobre dicho conjunto:\n",
    "\n",
    "    *Algoritmo de agrupamiento\n",
    "    *PCA\n",
    "    *Algoritmo de valores atípicos\n",
    "    *KernelPCA\n",
    "    *Manifold Learning\n",
    "    \n",
    "Finalmente escribe una reflexión sobre los resultados obtenidos."
   ]
  },
  {
   "cell_type": "markdown",
   "id": "b3ce94b3",
   "metadata": {},
   "source": [
    "## Algoritmo de Agrupamiento: DBScan\n",
    "\n",
    "DBScan es un algoritmo de clustering determinista que a diferencia de K-means, visualiza a los clusters como áreas de alta densidad separadas por áreas de baja densidad, lo cual le permite formar clusters de cualquier forma a diferencia de la geometría convexa que es inherente de K-means. El elemento principal en DBScan son los _core samples_ los cuales son muestras dentro de las áreas de alta densidad, por lo que aquí un cluster se define como un agrupamiento de _core samples_ (bajo cierta medida de distancia) o de _non-core samples_ cercanos. Existen dos parámetros para el algoritmo: `min_samples` y `eps` los cuales definen la densidad de las áreas de puntos, donde un alto número de muestras mínimas y bajo eps indican una densidad mayor para formar el cluster."
   ]
  },
  {
   "cell_type": "code",
   "execution_count": 3,
   "id": "e74b8f84",
   "metadata": {},
   "outputs": [],
   "source": [
    "import numpy as np\n",
    "import pandas as pd\n",
    "import matplotlib.pyplot as plt\n",
    "\n",
    "from sklearn.datasets import load_digits\n",
    "from itertools import product\n",
    "from collections import Counter\n",
    "from sklearn.model_selection import train_test_split\n",
    "\n",
    "from sklearn.cluster import DBSCAN"
   ]
  },
  {
   "cell_type": "code",
   "execution_count": 4,
   "id": "05d82e83",
   "metadata": {},
   "outputs": [],
   "source": [
    "X,y = load_digits(return_X_y=True)    #importar el dataset"
   ]
  },
  {
   "cell_type": "code",
   "execution_count": 5,
   "id": "f1a8db20",
   "metadata": {},
   "outputs": [
    {
     "data": {
      "text/plain": [
       "array([[ 0.,  0.,  5., ...,  0.,  0.,  0.],\n",
       "       [ 0.,  0.,  0., ..., 10.,  0.,  0.],\n",
       "       [ 0.,  0.,  0., ..., 16.,  9.,  0.],\n",
       "       ...,\n",
       "       [ 0.,  0.,  1., ...,  6.,  0.,  0.],\n",
       "       [ 0.,  0.,  2., ..., 12.,  0.,  0.],\n",
       "       [ 0.,  0., 10., ..., 12.,  1.,  0.]])"
      ]
     },
     "execution_count": 5,
     "metadata": {},
     "output_type": "execute_result"
    }
   ],
   "source": [
    "X"
   ]
  },
  {
   "cell_type": "code",
   "execution_count": 6,
   "id": "ddf336b4",
   "metadata": {},
   "outputs": [
    {
     "data": {
      "text/plain": [
       "array([0, 1, 2, ..., 8, 9, 8])"
      ]
     },
     "execution_count": 6,
     "metadata": {},
     "output_type": "execute_result"
    }
   ],
   "source": [
    "y"
   ]
  },
  {
   "cell_type": "code",
   "execution_count": 154,
   "id": "59023175",
   "metadata": {
    "collapsed": true,
    "jupyter": {
     "outputs_hidden": true
    },
    "tags": []
   },
   "outputs": [
    {
     "name": "stdout",
     "output_type": "stream",
     "text": [
      "12\n",
      "9.863265306122448 2\n",
      "9\n",
      "11.083673469387755 3\n",
      "12\n",
      "11.693877551020408 3\n",
      "11\n",
      "12.914285714285713 4\n",
      "12\n",
      "13.524489795918367 4\n",
      "9\n",
      "13.524489795918367 5\n",
      "14\n",
      "14.13469387755102 5\n",
      "9\n",
      "14.744897959183673 6\n",
      "12\n",
      "15.965306122448979 7\n",
      "9\n",
      "15.965306122448979 8\n",
      "13\n",
      "16.575510204081635 7\n",
      "10\n",
      "16.575510204081635 8\n",
      "10\n",
      "16.575510204081635 9\n",
      "10\n",
      "17.185714285714287 8\n",
      "10\n",
      "17.185714285714287 9\n",
      "9\n",
      "17.185714285714287 10\n",
      "13\n",
      "17.79591836734694 8\n",
      "13\n",
      "17.79591836734694 9\n",
      "11\n",
      "17.79591836734694 10\n",
      "9\n",
      "17.79591836734694 12\n",
      "13\n",
      "18.406122448979595 10\n",
      "11\n",
      "18.406122448979595 11\n",
      "11\n",
      "18.406122448979595 12\n",
      "13\n",
      "19.016326530612247 11\n",
      "12\n",
      "19.016326530612247 12\n",
      "10\n",
      "19.016326530612247 13\n",
      "14\n",
      "19.6265306122449 11\n",
      "12\n",
      "19.6265306122449 12\n",
      "12\n",
      "19.6265306122449 13\n",
      "10\n",
      "19.6265306122449 14\n",
      "9\n",
      "19.6265306122449 15\n",
      "14\n",
      "20.23673469387755 10\n",
      "14\n",
      "20.23673469387755 14\n",
      "12\n",
      "20.23673469387755 15\n",
      "12\n",
      "20.23673469387755 16\n",
      "10\n",
      "20.23673469387755 17\n",
      "14\n",
      "20.846938775510203 10\n",
      "14\n",
      "20.846938775510203 11\n",
      "14\n",
      "20.846938775510203 12\n",
      "14\n",
      "20.846938775510203 15\n",
      "13\n",
      "20.846938775510203 16\n",
      "13\n",
      "20.846938775510203 17\n",
      "11\n",
      "20.846938775510203 18\n",
      "10\n",
      "20.846938775510203 19\n",
      "9\n",
      "20.846938775510203 20\n",
      "9\n",
      "20.846938775510203 21\n",
      "14\n",
      "21.45714285714286 10\n",
      "14\n",
      "21.45714285714286 13\n",
      "13\n",
      "21.45714285714286 17\n",
      "12\n",
      "21.45714285714286 18\n",
      "12\n",
      "21.45714285714286 19\n",
      "11\n",
      "21.45714285714286 20\n",
      "10\n",
      "21.45714285714286 21\n",
      "10\n",
      "21.45714285714286 22\n",
      "9\n",
      "21.45714285714286 23\n",
      "9\n",
      "21.45714285714286 24\n",
      "9\n",
      "21.45714285714286 26\n",
      "14\n",
      "22.06734693877551 4\n",
      "13\n",
      "22.06734693877551 5\n",
      "14\n",
      "22.06734693877551 6\n",
      "13\n",
      "22.06734693877551 10\n",
      "14\n",
      "22.06734693877551 11\n",
      "14\n",
      "22.06734693877551 12\n",
      "13\n",
      "22.06734693877551 13\n",
      "13\n",
      "22.06734693877551 14\n",
      "12\n",
      "22.06734693877551 15\n",
      "14\n",
      "22.06734693877551 16\n",
      "13\n",
      "22.06734693877551 17\n",
      "12\n",
      "22.06734693877551 18\n",
      "12\n",
      "22.06734693877551 19\n",
      "11\n",
      "22.06734693877551 20\n",
      "10\n",
      "22.06734693877551 21\n",
      "10\n",
      "22.06734693877551 22\n",
      "9\n",
      "22.06734693877551 23\n",
      "9\n",
      "22.06734693877551 24\n",
      "10\n",
      "22.06734693877551 25\n",
      "12\n",
      "22.677551020408163 4\n",
      "11\n",
      "22.677551020408163 5\n",
      "11\n",
      "22.677551020408163 6\n",
      "12\n",
      "22.677551020408163 7\n",
      "13\n",
      "22.677551020408163 8\n",
      "11\n",
      "22.677551020408163 9\n",
      "11\n",
      "22.677551020408163 10\n",
      "13\n",
      "22.677551020408163 11\n",
      "13\n",
      "22.677551020408163 12\n",
      "13\n",
      "22.677551020408163 13\n",
      "13\n",
      "22.677551020408163 14\n",
      "14\n",
      "22.677551020408163 15\n",
      "13\n",
      "22.677551020408163 16\n",
      "12\n",
      "22.677551020408163 17\n",
      "13\n",
      "22.677551020408163 18\n",
      "12\n",
      "22.677551020408163 19\n",
      "12\n",
      "22.677551020408163 20\n",
      "12\n",
      "22.677551020408163 21\n",
      "11\n",
      "22.677551020408163 22\n",
      "11\n",
      "22.677551020408163 23\n",
      "10\n",
      "22.677551020408163 24\n",
      "9\n",
      "22.677551020408163 25\n",
      "9\n",
      "22.677551020408163 26\n",
      "10\n",
      "22.677551020408163 27\n",
      "10\n",
      "22.677551020408163 28\n",
      "10\n",
      "22.677551020408163 29\n",
      "9\n",
      "22.677551020408163 30\n",
      "9\n",
      "22.677551020408163 31\n",
      "14\n",
      "23.28775510204082 3\n",
      "12\n",
      "23.28775510204082 4\n",
      "10\n",
      "23.28775510204082 5\n",
      "11\n",
      "23.28775510204082 6\n",
      "11\n",
      "23.28775510204082 7\n",
      "11\n",
      "23.28775510204082 8\n",
      "11\n",
      "23.28775510204082 9\n",
      "11\n",
      "23.28775510204082 10\n",
      "9\n",
      "23.28775510204082 11\n",
      "10\n",
      "23.28775510204082 12\n",
      "11\n",
      "23.28775510204082 13\n",
      "11\n",
      "23.28775510204082 14\n",
      "11\n",
      "23.28775510204082 15\n",
      "12\n",
      "23.28775510204082 16\n",
      "12\n",
      "23.28775510204082 17\n",
      "11\n",
      "23.28775510204082 18\n",
      "12\n",
      "23.28775510204082 19\n",
      "12\n",
      "23.28775510204082 20\n",
      "12\n",
      "23.28775510204082 21\n",
      "12\n",
      "23.28775510204082 22\n",
      "11\n",
      "23.28775510204082 23\n",
      "11\n",
      "23.28775510204082 24\n",
      "11\n",
      "23.28775510204082 25\n",
      "11\n",
      "23.28775510204082 26\n",
      "10\n",
      "23.28775510204082 27\n",
      "10\n",
      "23.28775510204082 28\n",
      "10\n",
      "23.28775510204082 29\n",
      "9\n",
      "23.28775510204082 30\n",
      "9\n",
      "23.28775510204082 31\n",
      "9\n",
      "23.28775510204082 32\n",
      "9\n",
      "23.28775510204082 33\n",
      "9\n",
      "23.28775510204082 34\n",
      "14\n",
      "23.89795918367347 2\n",
      "12\n",
      "23.89795918367347 3\n",
      "10\n",
      "23.89795918367347 4\n",
      "9\n",
      "23.89795918367347 5\n",
      "9\n",
      "23.89795918367347 6\n",
      "9\n",
      "23.89795918367347 7\n",
      "9\n",
      "23.89795918367347 8\n",
      "10\n",
      "23.89795918367347 9\n",
      "11\n",
      "23.89795918367347 10\n",
      "9\n",
      "23.89795918367347 11\n",
      "9\n",
      "23.89795918367347 12\n",
      "9\n",
      "23.89795918367347 13\n",
      "9\n",
      "23.89795918367347 14\n",
      "10\n",
      "23.89795918367347 16\n",
      "11\n",
      "23.89795918367347 17\n",
      "10\n",
      "23.89795918367347 18\n",
      "10\n",
      "23.89795918367347 19\n",
      "10\n",
      "23.89795918367347 20\n",
      "11\n",
      "23.89795918367347 21\n",
      "12\n",
      "23.89795918367347 22\n",
      "12\n",
      "23.89795918367347 23\n",
      "11\n",
      "23.89795918367347 24\n",
      "11\n",
      "23.89795918367347 25\n",
      "11\n",
      "23.89795918367347 26\n",
      "11\n",
      "23.89795918367347 27\n",
      "12\n",
      "23.89795918367347 28\n",
      "12\n",
      "23.89795918367347 29\n",
      "11\n",
      "23.89795918367347 30\n",
      "9\n",
      "23.89795918367347 31\n",
      "9\n",
      "23.89795918367347 32\n",
      "9\n",
      "23.89795918367347 33\n",
      "9\n",
      "23.89795918367347 34\n",
      "9\n",
      "23.89795918367347 35\n",
      "9\n",
      "23.89795918367347 36\n",
      "9\n",
      "23.89795918367347 37\n",
      "9\n",
      "23.89795918367347 38\n",
      "10\n",
      "24.508163265306123 2\n",
      "9\n",
      "24.508163265306123 17\n",
      "10\n",
      "24.508163265306123 18\n",
      "10\n",
      "24.508163265306123 19\n",
      "10\n",
      "24.508163265306123 20\n",
      "10\n",
      "24.508163265306123 21\n",
      "10\n",
      "24.508163265306123 22\n",
      "10\n",
      "24.508163265306123 23\n",
      "11\n",
      "24.508163265306123 24\n",
      "11\n",
      "24.508163265306123 25\n",
      "10\n",
      "24.508163265306123 26\n",
      "10\n",
      "24.508163265306123 27\n",
      "10\n",
      "24.508163265306123 28\n",
      "10\n",
      "24.508163265306123 29\n",
      "10\n",
      "24.508163265306123 30\n",
      "11\n",
      "24.508163265306123 31\n",
      "11\n",
      "24.508163265306123 32\n",
      "10\n",
      "24.508163265306123 33\n",
      "9\n",
      "24.508163265306123 34\n",
      "9\n",
      "24.508163265306123 35\n",
      "9\n",
      "24.508163265306123 36\n",
      "9\n",
      "24.508163265306123 37\n",
      "9\n",
      "24.508163265306123 38\n",
      "9\n",
      "24.508163265306123 39\n",
      "9\n",
      "24.508163265306123 40\n",
      "9\n",
      "24.508163265306123 41\n",
      "9\n",
      "25.118367346938776 25\n",
      "10\n",
      "25.118367346938776 26\n",
      "10\n",
      "25.118367346938776 27\n",
      "10\n",
      "25.118367346938776 28\n",
      "10\n",
      "25.118367346938776 29\n",
      "10\n",
      "25.118367346938776 30\n",
      "10\n",
      "25.118367346938776 31\n",
      "10\n",
      "25.118367346938776 32\n",
      "10\n",
      "25.118367346938776 33\n",
      "9\n",
      "25.118367346938776 34\n",
      "9\n",
      "25.118367346938776 35\n",
      "10\n",
      "25.118367346938776 36\n",
      "10\n",
      "25.118367346938776 37\n",
      "10\n",
      "25.118367346938776 38\n",
      "9\n",
      "25.118367346938776 39\n",
      "9\n",
      "25.118367346938776 40\n",
      "9\n",
      "25.118367346938776 41\n",
      "9\n",
      "25.118367346938776 42\n",
      "9\n",
      "25.118367346938776 43\n",
      "9\n",
      "25.118367346938776 44\n",
      "9\n",
      "25.728571428571428 28\n",
      "9\n",
      "25.728571428571428 29\n",
      "9\n",
      "25.728571428571428 30\n",
      "9\n",
      "25.728571428571428 31\n",
      "9\n",
      "25.728571428571428 32\n",
      "9\n",
      "25.728571428571428 33\n",
      "9\n",
      "25.728571428571428 34\n",
      "9\n",
      "25.728571428571428 35\n",
      "9\n",
      "25.728571428571428 37\n",
      "9\n",
      "25.728571428571428 38\n",
      "9\n",
      "25.728571428571428 39\n",
      "9\n",
      "25.728571428571428 40\n",
      "9\n",
      "25.728571428571428 41\n",
      "9\n",
      "25.728571428571428 42\n",
      "9\n",
      "25.728571428571428 43\n",
      "13\n",
      "26.948979591836736 1\n",
      "11\n",
      "27.559183673469388 1\n"
     ]
    }
   ],
   "source": [
    "#Buscamos los parametros para DBSCAN que nos generan entre 8 y 15 clusters\n",
    "for ep,m_s in product(np.linspace(0.1,30),[x for x in range (1,45)]):\n",
    "    cluster = DBSCAN(eps=ep, min_samples=m_s, n_jobs=-1)\n",
    "    y_pred = cluster.fit(X).labels_\n",
    "    if 8<len(Counter(y_pred))<15:\n",
    "        print(len(Counter(y_pred)))\n",
    "        print(ep,m_s)"
   ]
  },
  {
   "cell_type": "code",
   "execution_count": 7,
   "id": "0301033d",
   "metadata": {},
   "outputs": [],
   "source": [
    "# Elegimos la combinación de máxima densidad para la condición, mayor número de min numeros para un menor eps\n",
    "cluster = DBSCAN(eps=24.508163265306123, min_samples=31,n_jobs=-1)\n",
    "y_pred = cluster.fit(X).labels_"
   ]
  },
  {
   "cell_type": "code",
   "execution_count": 8,
   "id": "e02f490e",
   "metadata": {},
   "outputs": [
    {
     "name": "stdout",
     "output_type": "stream",
     "text": [
      "Counter({-1: 640, 2: 251, 1: 177, 0: 176, 4: 125, 3: 121, 5: 116, 6: 99, 7: 39, 8: 31, 9: 22})\n"
     ]
    }
   ],
   "source": [
    "print(Counter(y_pred)) #Vemos los clusters y su número de elementos"
   ]
  },
  {
   "cell_type": "code",
   "execution_count": 9,
   "id": "4148a448",
   "metadata": {},
   "outputs": [
    {
     "data": {
      "image/png": "[encoded data removed]",
      "text/plain": [
       "<Figure size 432x288 with 1 Axes>"
      ]
     },
     "metadata": {
      "needs_background": "light"
     },
     "output_type": "display_data"
    },
    {
     "data": {
      "image/png": "[encoded data removed]",
      "text/plain": [
       "<Figure size 432x288 with 1 Axes>"
      ]
     },
     "metadata": {
      "needs_background": "light"
     },
     "output_type": "display_data"
    },
    {
     "data": {
      "image/png": "[encoded data removed]",
      "text/plain": [
       "<Figure size 432x288 with 1 Axes>"
      ]
     },
     "metadata": {
      "needs_background": "light"
     },
     "output_type": "display_data"
    },
    {
     "data": {
      "image/png": "[encoded data removed]",
      "text/plain": [
       "<Figure size 432x288 with 1 Axes>"
      ]
     },
     "metadata": {
      "needs_background": "light"
     },
     "output_type": "display_data"
    }
   ],
   "source": [
    "%matplotlib inline\n",
    "# Visualizamos cuales fueron los elementos que se agrupó como ruido ie. label =-1\n",
    "X_outliers = X[y_pred==-1]\n",
    "y_outliers = y[y_pred==-1]\n",
    "for i in range(4):\n",
    "    x = X_outliers[i]\n",
    "    y_ = y_outliers[i]\n",
    "    number = x.reshape(8,8)\n",
    "    plt.imshow(number, cmap='gray')\n",
    "    plt.title(f'Label: {y_}')\n",
    "    plt.show()\n"
   ]
  },
  {
   "cell_type": "code",
   "execution_count": 10,
   "id": "cca1c532",
   "metadata": {},
   "outputs": [
    {
     "data": {
      "image/png": "[encoded data removed]",
      "text/plain": [
       "<Figure size 432x288 with 1 Axes>"
      ]
     },
     "metadata": {
      "needs_background": "light"
     },
     "output_type": "display_data"
    },
    {
     "data": {
      "image/png": "[encoded data removed]",
      "text/plain": [
       "<Figure size 432x288 with 1 Axes>"
      ]
     },
     "metadata": {
      "needs_background": "light"
     },
     "output_type": "display_data"
    },
    {
     "data": {
      "image/png": "[encoded data removed]",
      "text/plain": [
       "<Figure size 432x288 with 1 Axes>"
      ]
     },
     "metadata": {
      "needs_background": "light"
     },
     "output_type": "display_data"
    }
   ],
   "source": [
    "# Visualizamos los elementos que sí son core samples\n",
    "X_clust = X[y_pred!=-1]\n",
    "for x in X_clust[-3:]:\n",
    "    noise_ex = x.reshape(8,8)\n",
    "    plt.imshow(noise_ex, cmap='gray')\n",
    "    plt.show()"
   ]
  },
  {
   "cell_type": "code",
   "execution_count": 11,
   "id": "dad9604c",
   "metadata": {},
   "outputs": [
    {
     "data": {
      "image/png": "[encoded data removed]",
      "text/plain": [
       "<Figure size 1080x2520 with 21 Axes>"
      ]
     },
     "metadata": {
      "needs_background": "light"
     },
     "output_type": "display_data"
    }
   ],
   "source": [
    "#Comparación entre el clustering por DBScan y las labels originales\n",
    "fig, ax = plt.subplots(7,3,figsize=(15,35))\n",
    "for j in range(0,7):\n",
    "    X_verf = X[y_pred==j]\n",
    "    y_verf = y[y_pred==j]\n",
    "    for i in range(3):\n",
    "        x = X_verf[i]\n",
    "        y_ = y_verf[i]\n",
    "        noise_ex = x.reshape(8,8)\n",
    "        ax[j][i].imshow(noise_ex, cmap='gray')\n",
    "        ax[j][i].set_title(f'Label: {y_}, Clust: {j}')\n",
    "plt.show()"
   ]
  },
  {
   "cell_type": "code",
   "execution_count": 12,
   "id": "bc8c3e8d",
   "metadata": {},
   "outputs": [
    {
     "name": "stdout",
     "output_type": "stream",
     "text": [
      "Cluster: 0, label: 0 by 100.0%\n",
      "Cluster: 1, label: 6 by 98.87005649717514%\n",
      "Cluster: 2, label: 3 by 55.77689243027888%\n",
      "Cluster: 3, label: 4 by 100.0%\n",
      "Cluster: 4, label: 7 by 100.0%\n",
      "Cluster: 5, label: 1 by 80.17241379310344%\n",
      "Cluster: 6, label: 2 by 100.0%\n",
      "Cluster: 7, label: 5 by 100.0%\n",
      "Cluster: 8, label: 5 by 100.0%\n",
      "Cluster: 9, label: 5 by 100.0%\n"
     ]
    }
   ],
   "source": [
    "from scipy import stats\n",
    "# Verificamos los clusters por la moda \n",
    "for k in range(10):\n",
    "    y_f = y[y_pred==k]\n",
    "    y_mode = stats.mode(y_f)\n",
    "    y_per = (y_mode[1][0] / len(y_f))*100\n",
    "    print(f'Cluster: {k}, label: {y_mode[0][0]} by {y_per}%')"
   ]
  },
  {
   "cell_type": "code",
   "execution_count": 13,
   "id": "b30392eb",
   "metadata": {},
   "outputs": [
    {
     "data": {
      "image/png": "[encoded data removed]",
      "text/plain": [
       "<Figure size 720x720 with 9 Axes>"
      ]
     },
     "metadata": {
      "needs_background": "light"
     },
     "output_type": "display_data"
    }
   ],
   "source": [
    "# Visualización de las diferencias entre los clusters 7.8 y 9\n",
    "fig, ax = plt.subplots(3,3,figsize=(10,10))\n",
    "for j in range(7,10):\n",
    "    X_verf = X[y_pred==j]\n",
    "    y_verf = y[y_pred==j]\n",
    "    for i in range(3):\n",
    "        x = X_verf[i]\n",
    "        y_ = y_verf[i]\n",
    "        noise_ex = x.reshape(8,8)\n",
    "        ax[j-7][i].imshow(noise_ex, cmap='gray')\n",
    "        ax[j-7][i].set_title(f'Label: {y_}, Clust: {j}')\n",
    "plt.show()"
   ]
  },
  {
   "cell_type": "code",
   "execution_count": 14,
   "id": "18011e2e",
   "metadata": {},
   "outputs": [
    {
     "data": {
      "text/plain": [
       "0.6179910115189717"
      ]
     },
     "execution_count": 14,
     "metadata": {},
     "output_type": "execute_result"
    }
   ],
   "source": [
    "from sklearn.metrics import homogeneity_score\n",
    "#Score de homogeneidad\n",
    "homogeneity_score(y,y_pred)"
   ]
  },
  {
   "cell_type": "markdown",
   "id": "551b5fb1",
   "metadata": {},
   "source": [
    "## PCA\n",
    "PCA es un algoritmo de descomposición usado para obtener las componentes ortogonales de un set de datos multidimensional con base en la máxima cantidad de varianza entre las componentes. PCA centra más no escala los datos."
   ]
  },
  {
   "cell_type": "code",
   "execution_count": 15,
   "id": "f41d45d3",
   "metadata": {},
   "outputs": [],
   "source": [
    "import numpy as np\n",
    "import pandas as pd\n",
    "import matplotlib.pyplot as plt\n",
    "import seaborn as sns\n",
    "\n",
    "from sklearn.datasets import load_digits\n",
    "from collections import Counter\n",
    "from sklearn.model_selection import train_test_split\n",
    "\n",
    "from sklearn.decomposition import PCA"
   ]
  },
  {
   "cell_type": "code",
   "execution_count": 118,
   "id": "e6e121c9",
   "metadata": {},
   "outputs": [],
   "source": [
    "X,y = load_digits(return_X_y=True)"
   ]
  },
  {
   "cell_type": "code",
   "execution_count": 137,
   "id": "f146ae25",
   "metadata": {},
   "outputs": [
    {
     "data": {
      "text/plain": [
       "PCA(n_components=22)"
      ]
     },
     "execution_count": 137,
     "metadata": {},
     "output_type": "execute_result"
    }
   ],
   "source": [
    "pca = PCA(n_components=22)\n",
    "pca.fit(X)"
   ]
  },
  {
   "cell_type": "code",
   "execution_count": 143,
   "id": "afcb6d7e",
   "metadata": {},
   "outputs": [
    {
     "data": {
      "image/png": "[encoded data removed]",
      "text/plain": [
       "<Figure size 1080x504 with 1 Axes>"
      ]
     },
     "metadata": {
      "needs_background": "light"
     },
     "output_type": "display_data"
    }
   ],
   "source": [
    "var_ratio= pca.explained_variance_ratio_\n",
    "\n",
    "cum_sum = np.cumsum(var_ratio)\n",
    "cum_sum\n",
    "labels= [\"pc_{}\".format(n+1) for n in range(len(var_ratio))]\n",
    "plt.figure(figsize=(15,7))\n",
    "plt.bar(labels, var_ratio)\n",
    "plt.step(labels, cum_sum, where= \"mid\", linestyle='dashed', color=\"orange\" )\n",
    "plt.plot()\n",
    "plt.show()"
   ]
  },
  {
   "cell_type": "code",
   "execution_count": 144,
   "id": "8029f3cb",
   "metadata": {},
   "outputs": [],
   "source": [
    "pca_data = pca.fit_transform(X)\n",
    "\n",
    "pca_data= pd.DataFrame(pca_data)\n",
    "pca_data[\"target\"]= y"
   ]
  },
  {
   "cell_type": "code",
   "execution_count": 148,
   "id": "abed94eb",
   "metadata": {},
   "outputs": [],
   "source": [
    "%matplotlib qt\n",
    "from mpl_toolkits.mplot3d import Axes3D\n",
    "\n",
    "sns.set(style = \"darkgrid\")\n",
    "\n",
    "fig = plt.figure()\n",
    "ax = fig.add_subplot(111, projection = '3d')\n",
    "\n",
    "ax.set_xlabel(\"var_0\")\n",
    "ax.set_ylabel(\"var_1\")\n",
    "ax.set_zlabel(\"var2\")\n",
    "\n",
    "for t in range(10):\n",
    "    x_ = pca_data[pca_data.target==t][0]\n",
    "    y_ = pca_data[pca_data.target==t][1]\n",
    "    z_ = pca_data[pca_data.target==t][2]\n",
    "\n",
    "    ax.scatter(x_, y_, z_, label= str(t) )\n",
    "\n",
    "\n",
    "plt.legend()\n",
    "plt.show()"
   ]
  },
  {
   "cell_type": "code",
   "execution_count": 16,
   "id": "367c2b54-59ba-4822-97b8-b4ae727a9682",
   "metadata": {},
   "outputs": [],
   "source": [
    "#Se importan los datos\n",
    "digits = load_digits()\n",
    "\n",
    "X= digits.data\n",
    "y= digits.target\n"
   ]
  },
  {
   "cell_type": "markdown",
   "id": "327182db-5c3c-4024-b340-375dd9696ab1",
   "metadata": {},
   "source": [
    "## Detección atípicos\n"
   ]
  },
  {
   "cell_type": "code",
   "execution_count": 28,
   "id": "8cc1de51-340f-490c-b4d5-cfb96a3a4d45",
   "metadata": {},
   "outputs": [],
   "source": [
    "from sklearn.neighbors import LocalOutlierFactor "
   ]
  },
  {
   "cell_type": "code",
   "execution_count": 17,
   "id": "feb528e5-e014-4583-b8cd-45f6817a28c3",
   "metadata": {},
   "outputs": [],
   "source": [
    "from sklearn.datasets import load_digits\n",
    "from sklearn.decomposition import KernelPCA\n",
    "\n",
    "from sklearn.manifold import TSNE"
   ]
  },
  {
   "cell_type": "code",
   "execution_count": 18,
   "id": "ef17a46c-8ba7-423d-b0ab-2953e167874a",
   "metadata": {},
   "outputs": [],
   "source": [
    "from sklearn.svm import OneClassSVM"
   ]
  },
  {
   "cell_type": "code",
   "execution_count": 19,
   "id": "1f840dde-8855-40d2-8fab-53de24d2102c",
   "metadata": {},
   "outputs": [],
   "source": [
    "svm= OneClassSVM(kernel= \"linear\")\n",
    "#svm= OneClassSVM( )\n",
    "\n",
    "\n",
    "SVM_labels=svm.fit_predict(X)\n",
    "\n",
    "# El modelo etiqueta como -1 a los valores atípicos\n",
    "#SVM_label= [\"Típico\" if label==1 else \"Atípico\" for label in SVM_labels]"
   ]
  },
  {
   "cell_type": "code",
   "execution_count": 20,
   "id": "fe31b737-fbf0-47c4-b6ab-39891f0b2338",
   "metadata": {},
   "outputs": [],
   "source": [
    "atipicos= X[SVM_labels==-1]"
   ]
  },
  {
   "cell_type": "code",
   "execution_count": 21,
   "id": "693cec85-e5a2-4e40-bc83-9402b65841ed",
   "metadata": {},
   "outputs": [
    {
     "data": {
      "text/plain": [
       "900"
      ]
     },
     "execution_count": 21,
     "metadata": {},
     "output_type": "execute_result"
    }
   ],
   "source": [
    "(SVM_labels==-1).sum()"
   ]
  },
  {
   "cell_type": "code",
   "execution_count": 22,
   "id": "54683652-c179-4430-a424-1bb01c533f44",
   "metadata": {},
   "outputs": [
    {
     "data": {
      "text/plain": [
       "897"
      ]
     },
     "execution_count": 22,
     "metadata": {},
     "output_type": "execute_result"
    }
   ],
   "source": [
    "(SVM_labels==1).sum()"
   ]
  },
  {
   "cell_type": "markdown",
   "id": "d16f533c-a9a2-4fc5-8289-61ee1a029954",
   "metadata": {},
   "source": [
    "**NOTE: Descartamos el método SVM ya que una gran catidad de datos son catalogados como atípicos, a pesar de utilizar distintos tipos de kernels**"
   ]
  },
  {
   "cell_type": "code",
   "execution_count": 23,
   "id": "8fadbee9-d204-43b0-902e-f80e3fe0b049",
   "metadata": {},
   "outputs": [],
   "source": [
    "from sklearn.neighbors import LocalOutlierFactor\n",
    "\n",
    "LOF = LocalOutlierFactor(n_neighbors=2)#(n_neighbors=5)\n",
    "\n",
    "LOF_lables= LOF.fit_predict(X)"
   ]
  },
  {
   "cell_type": "code",
   "execution_count": 24,
   "id": "e1866d34-6cd2-4c9f-b097-b9c7e386fdae",
   "metadata": {},
   "outputs": [
    {
     "data": {
      "text/plain": [
       "array([-1, -1, -1, -1, -1, -1, -1, -1, -1, -1, -1, -1, -1])"
      ]
     },
     "execution_count": 24,
     "metadata": {},
     "output_type": "execute_result"
    }
   ],
   "source": [
    "out_LOF=X[LOF_lables==-1]\n",
    "\n",
    "LOF_lables[LOF_lables==-1]"
   ]
  },
  {
   "cell_type": "code",
   "execution_count": 25,
   "id": "256dbf27-2e89-48bd-b37f-835eb3af8359",
   "metadata": {},
   "outputs": [
    {
     "data": {
      "image/png": "[encoded data removed]",
      "text/plain": [
       "<Figure size 720x1440 with 12 Axes>"
      ]
     },
     "metadata": {
      "needs_background": "light"
     },
     "output_type": "display_data"
    }
   ],
   "source": [
    "fig, ax = plt.subplots(6,2,figsize=(10,20))\n",
    "\n",
    "for j in range(12):\n",
    "    ax[j//2, j%2 ].imshow(out_LOF[j].reshape(8,8), cmap='gray')\n",
    "    \n",
    "plt.show()\n"
   ]
  },
  {
   "cell_type": "markdown",
   "id": "ddd38032-f4ba-4d71-8d64-145becb1e094",
   "metadata": {},
   "source": [
    "## Kernel PCA\n",
    "\n",
    "Kernel PCA proyecta los datos en un espacio de mayor dimensión y aplica Análisis de Componentes Principales. Como la transformación utilizada para aumentar proyectar depende de un kernel y en general no es lineal, esta técnica suele ser útil cuando los datos no son linealmente separables."
   ]
  },
  {
   "cell_type": "code",
   "execution_count": 26,
   "id": "ec8c78fa-2797-4385-b501-3e7bad9c3d08",
   "metadata": {},
   "outputs": [],
   "source": [
    "# \"poly\", \"cosine\"\n",
    "kpca = KernelPCA(n_components=3, kernel='poly')\n",
    "kpca_data = kpca.fit_transform(X)\n",
    "\n",
    "kpca_data= pd.DataFrame(kpca_data)\n",
    "kpca_data[\"target\"]= y\n"
   ]
  },
  {
   "cell_type": "code",
   "execution_count": 27,
   "id": "b546bdd7-4bf2-40bf-a8ee-e96c08438647",
   "metadata": {},
   "outputs": [],
   "source": [
    "%matplotlib qt\n",
    "from mpl_toolkits.mplot3d import Axes3D\n",
    "\n",
    "sns.set(style = \"darkgrid\")\n",
    "\n",
    "fig = plt.figure()\n",
    "ax = fig.add_subplot(111, projection = '3d')\n",
    "\n",
    "ax.set_xlabel(\"var_0\")\n",
    "ax.set_ylabel(\"var_1\")\n",
    "ax.set_zlabel(\"var_2\")\n",
    "\n",
    "for t in range(10):\n",
    "    x_ = kpca_data[kpca_data.target==t][0]\n",
    "    y_ = kpca_data[kpca_data.target==t][1]\n",
    "    z_ = kpca_data[kpca_data.target==t][2]\n",
    "\n",
    "    ax.scatter(x_, y_, z_, label= str(t) )\n",
    "\n",
    "\n",
    "plt.legend()\n",
    "plt.show()"
   ]
  },
  {
   "cell_type": "markdown",
   "id": "050cb6ad-7d1f-4220-99ad-d0237cc5c117",
   "metadata": {},
   "source": [
    "## Manifold: TSNE\n",
    "One Class SVM utiliza el truco del kernel para proyectar los datos en un espacio de dimensión superior y encuentra el hiperplano que mejor separa al conjunto de datos del origen. Los datos que se encuentran separados por el hiperplano en el lado del origen son clasificados como atípicos."
   ]
  },
  {
   "cell_type": "code",
   "execution_count": 29,
   "id": "e30cde85-5b2c-450a-8a75-7291b881c75a",
   "metadata": {},
   "outputs": [
    {
     "name": "stderr",
     "output_type": "stream",
     "text": [
      "C:\\Users\\Andrew S\\anaconda3\\lib\\site-packages\\sklearn\\manifold\\_t_sne.py:780: FutureWarning: The default initialization in TSNE will change from 'random' to 'pca' in 1.2.\n",
      "  warnings.warn(\n",
      "C:\\Users\\Andrew S\\anaconda3\\lib\\site-packages\\sklearn\\manifold\\_t_sne.py:790: FutureWarning: The default learning rate in TSNE will change from 200.0 to 'auto' in 1.2.\n",
      "  warnings.warn(\n"
     ]
    }
   ],
   "source": [
    "#kpca = KernelPCA(n_components=2, kernel='rbf', gamma=15)\n",
    "# ‘linear’, ‘poly’, ‘rbf’, ‘sigmoid’, ‘cosine’\n",
    "\n",
    "\n",
    "# \"poly\", \"cosine\"\n",
    "TSNE_data = TSNE(n_components=3, random_state= 42).fit_transform(X)\n",
    "\n",
    "TSNE_data= pd.DataFrame(TSNE_data)\n",
    "TSNE_data[\"target\"]= y"
   ]
  },
  {
   "cell_type": "code",
   "execution_count": 30,
   "id": "21affc6c-b22f-495f-9ba1-700f676359e7",
   "metadata": {},
   "outputs": [],
   "source": [
    "%matplotlib qt\n",
    "from mpl_toolkits.mplot3d import Axes3D\n",
    "\n",
    "sns.set(style = \"darkgrid\")\n",
    "\n",
    "fig = plt.figure()\n",
    "ax = fig.add_subplot(111, projection = '3d')\n",
    "\n",
    "ax.set_xlabel(\"var_0\")\n",
    "ax.set_ylabel(\"var_1\")\n",
    "ax.set_zlabel(\"var_2\")\n",
    "\n",
    "for t in range(10):\n",
    "    x_ = TSNE_data[TSNE_data.target==t][0]\n",
    "    y_ = TSNE_data[TSNE_data.target==t][1]\n",
    "    z_ = TSNE_data[TSNE_data.target==t][2]\n",
    "\n",
    "    ax.scatter(x_, y_, z_, label= str(t) )\n",
    "\n",
    "\n",
    "plt.legend()\n",
    "plt.show()"
   ]
  },
  {
   "cell_type": "code",
   "execution_count": 31,
   "id": "17fbc8f7-6c93-44fb-8098-225004121035",
   "metadata": {},
   "outputs": [
    {
     "data": {
      "text/html": [
       "<div>\n",
       "<style scoped>\n",
       "    .dataframe tbody tr th:only-of-type {\n",
       "        vertical-align: middle;\n",
       "    }\n",
       "\n",
       "    .dataframe tbody tr th {\n",
       "        vertical-align: top;\n",
       "    }\n",
       "\n",
       "    .dataframe thead th {\n",
       "        text-align: right;\n",
       "    }\n",
       "</style>\n",
       "<table border=\"1\" class=\"dataframe\">\n",
       "  <thead>\n",
       "    <tr style=\"text-align: right;\">\n",
       "      <th></th>\n",
       "      <th>0</th>\n",
       "      <th>1</th>\n",
       "      <th>2</th>\n",
       "      <th>target</th>\n",
       "    </tr>\n",
       "  </thead>\n",
       "  <tbody>\n",
       "    <tr>\n",
       "      <th>0</th>\n",
       "      <td>5.561688</td>\n",
       "      <td>-9.124728</td>\n",
       "      <td>-14.733070</td>\n",
       "      <td>0</td>\n",
       "    </tr>\n",
       "    <tr>\n",
       "      <th>1</th>\n",
       "      <td>-6.690330</td>\n",
       "      <td>-5.583112</td>\n",
       "      <td>-2.258718</td>\n",
       "      <td>1</td>\n",
       "    </tr>\n",
       "    <tr>\n",
       "      <th>2</th>\n",
       "      <td>-6.267070</td>\n",
       "      <td>7.755516</td>\n",
       "      <td>0.812202</td>\n",
       "      <td>2</td>\n",
       "    </tr>\n",
       "    <tr>\n",
       "      <th>3</th>\n",
       "      <td>4.704839</td>\n",
       "      <td>8.324692</td>\n",
       "      <td>7.678383</td>\n",
       "      <td>3</td>\n",
       "    </tr>\n",
       "    <tr>\n",
       "      <th>4</th>\n",
       "      <td>-4.746251</td>\n",
       "      <td>-14.607820</td>\n",
       "      <td>-3.217094</td>\n",
       "      <td>4</td>\n",
       "    </tr>\n",
       "    <tr>\n",
       "      <th>...</th>\n",
       "      <td>...</td>\n",
       "      <td>...</td>\n",
       "      <td>...</td>\n",
       "      <td>...</td>\n",
       "    </tr>\n",
       "    <tr>\n",
       "      <th>1792</th>\n",
       "      <td>11.087734</td>\n",
       "      <td>7.808840</td>\n",
       "      <td>1.099476</td>\n",
       "      <td>9</td>\n",
       "    </tr>\n",
       "    <tr>\n",
       "      <th>1793</th>\n",
       "      <td>0.900722</td>\n",
       "      <td>-10.722748</td>\n",
       "      <td>-12.980346</td>\n",
       "      <td>0</td>\n",
       "    </tr>\n",
       "    <tr>\n",
       "      <th>1794</th>\n",
       "      <td>-4.287469</td>\n",
       "      <td>2.177191</td>\n",
       "      <td>1.262803</td>\n",
       "      <td>8</td>\n",
       "    </tr>\n",
       "    <tr>\n",
       "      <th>1795</th>\n",
       "      <td>7.657171</td>\n",
       "      <td>5.996038</td>\n",
       "      <td>1.511767</td>\n",
       "      <td>9</td>\n",
       "    </tr>\n",
       "    <tr>\n",
       "      <th>1796</th>\n",
       "      <td>-1.458148</td>\n",
       "      <td>4.952136</td>\n",
       "      <td>3.492139</td>\n",
       "      <td>8</td>\n",
       "    </tr>\n",
       "  </tbody>\n",
       "</table>\n",
       "<p>1797 rows × 4 columns</p>\n",
       "</div>"
      ],
      "text/plain": [
       "              0          1          2  target\n",
       "0      5.561688  -9.124728 -14.733070       0\n",
       "1     -6.690330  -5.583112  -2.258718       1\n",
       "2     -6.267070   7.755516   0.812202       2\n",
       "3      4.704839   8.324692   7.678383       3\n",
       "4     -4.746251 -14.607820  -3.217094       4\n",
       "...         ...        ...        ...     ...\n",
       "1792  11.087734   7.808840   1.099476       9\n",
       "1793   0.900722 -10.722748 -12.980346       0\n",
       "1794  -4.287469   2.177191   1.262803       8\n",
       "1795   7.657171   5.996038   1.511767       9\n",
       "1796  -1.458148   4.952136   3.492139       8\n",
       "\n",
       "[1797 rows x 4 columns]"
      ]
     },
     "execution_count": 31,
     "metadata": {},
     "output_type": "execute_result"
    }
   ],
   "source": [
    "TSNE_data"
   ]
  },
  {
   "cell_type": "markdown",
   "id": "44bf6089-1fc6-4fae-a6c8-231ab38d5b90",
   "metadata": {},
   "source": [
    "Realizaremos un cluster con DBScan sobre las features extraidas por Manifold TSNE."
   ]
  },
  {
   "cell_type": "code",
   "execution_count": 38,
   "id": "5254762e-6a6c-4fd6-bf4a-c17d9493b2a5",
   "metadata": {},
   "outputs": [],
   "source": [
    "#Buscamos los parametros para DBSCAN que nos generan entre 8 y 15 clusters\n",
    "X = TSNE_data.drop(columns='target')\n",
    "params = {}\n",
    "for ep,m_s in product(np.linspace(0.1,30),[x for x in range (1,45)]):\n",
    "    cluster = DBSCAN(eps=ep, min_samples=m_s, n_jobs=-1)\n",
    "    y_pred = cluster.fit(X).labels_\n",
    "    if 8<len(Counter(y_pred))<15:\n",
    "        params[f'{len(Counter(y_pred))}'] = {'eps':[],'min_sam':[]}\n",
    "        params[f'{len(Counter(y_pred))}']['eps'].append(ep)\n",
    "        params[f'{len(Counter(y_pred))}']['min_sam'].append(m_s)\n",
    "#         print(len(Counter(y_pred)))\n",
    "#         print(ep,m_s)"
   ]
  },
  {
   "cell_type": "code",
   "execution_count": 39,
   "id": "bbabe7df-4148-4689-851b-6f1d2d5f24df",
   "metadata": {},
   "outputs": [
    {
     "data": {
      "text/plain": [
       "{'11': {'eps': [3.7612244897959184], 'min_sam': [44]},\n",
       " '9': {'eps': [3.7612244897959184], 'min_sam': [31]},\n",
       " '13': {'eps': [3.1510204081632653], 'min_sam': [44]},\n",
       " '12': {'eps': [3.1510204081632653], 'min_sam': [43]},\n",
       " '14': {'eps': [2.5408163265306123], 'min_sam': [37]},\n",
       " '10': {'eps': [3.7612244897959184], 'min_sam': [36]}}"
      ]
     },
     "execution_count": 39,
     "metadata": {},
     "output_type": "execute_result"
    }
   ],
   "source": [
    "params"
   ]
  },
  {
   "cell_type": "markdown",
   "id": "fe88dcca-ae2f-4559-90b5-40aecea8c26d",
   "metadata": {},
   "source": [
    "**NOTE: Elegimos unos parámetros para generar un mayor número de clusters para observar los resultados que ésto genera**"
   ]
  },
  {
   "cell_type": "code",
   "execution_count": 40,
   "id": "2115605c-e14d-4e61-961b-464be3de4bc8",
   "metadata": {},
   "outputs": [],
   "source": [
    "# Elegimos la combinación de máxima densidad para la condición, mayor número de min numeros para un menor eps\n",
    "cluster = DBSCAN(eps=3.1510204081632653, min_samples=44,n_jobs=-1)\n",
    "X = TSNE_data.drop(columns='target')\n",
    "y_pred = cluster.fit(X).labels_"
   ]
  },
  {
   "cell_type": "code",
   "execution_count": 41,
   "id": "dec1074c-56bb-40c6-8e83-5ae522f480a9",
   "metadata": {},
   "outputs": [
    {
     "name": "stdout",
     "output_type": "stream",
     "text": [
      "Counter({-1: 200, 7: 181, 0: 178, 5: 178, 6: 165, 1: 157, 3: 157, 2: 154, 9: 130, 10: 98, 8: 97, 4: 59, 11: 43})\n"
     ]
    }
   ],
   "source": [
    "print(Counter(y_pred)) #Vemos los clusters y su número de elementos"
   ]
  },
  {
   "cell_type": "code",
   "execution_count": 55,
   "id": "4916be24-0ff8-44cb-9398-59fa9014ebeb",
   "metadata": {},
   "outputs": [
    {
     "data": {
      "text/plain": [
       "dict_keys([0, -1, 1, 3, 9, 5, 6, 8, 4, 2, 7, 10, 11])"
      ]
     },
     "execution_count": 55,
     "metadata": {},
     "output_type": "execute_result"
    }
   ],
   "source": [
    "Counter(y_pred).keys()"
   ]
  },
  {
   "cell_type": "code",
   "execution_count": 48,
   "id": "9e93ef63-8645-4d66-afb5-5d501ad6e64a",
   "metadata": {},
   "outputs": [],
   "source": [
    "#Se importan los datos\n",
    "digits = load_digits()\n",
    "\n",
    "X_d= digits.data\n",
    "y_d= digits.target\n"
   ]
  },
  {
   "cell_type": "code",
   "execution_count": 50,
   "id": "08570fa5-ee9e-4e20-be4e-d766c5dd3198",
   "metadata": {},
   "outputs": [
    {
     "data": {
      "image/png": "[encoded data removed]",
      "text/plain": [
       "<Figure size 432x288 with 1 Axes>"
      ]
     },
     "metadata": {
      "needs_background": "light"
     },
     "output_type": "display_data"
    },
    {
     "data": {
      "image/png": "[encoded data removed]",
      "text/plain": [
       "<Figure size 432x288 with 1 Axes>"
      ]
     },
     "metadata": {
      "needs_background": "light"
     },
     "output_type": "display_data"
    },
    {
     "data": {
      "image/png": "[encoded data removed]",
      "text/plain": [
       "<Figure size 432x288 with 1 Axes>"
      ]
     },
     "metadata": {
      "needs_background": "light"
     },
     "output_type": "display_data"
    },
    {
     "data": {
      "image/png": "[encoded data removed]",
      "text/plain": [
       "<Figure size 432x288 with 1 Axes>"
      ]
     },
     "metadata": {
      "needs_background": "light"
     },
     "output_type": "display_data"
    }
   ],
   "source": [
    "%matplotlib inline\n",
    "# Visualizamos cuales fueron los elementos que se agrupó como ruido ie. label =-1\n",
    "X_outliers = X_d[y_pred==-1]\n",
    "y_outliers = y_d[y_pred==-1]\n",
    "for i in range(4):\n",
    "    x = X_outliers[i]\n",
    "    y_ = y_outliers[i]\n",
    "    number = x.reshape(8,8)\n",
    "    plt.imshow(number, cmap='gray')\n",
    "    plt.title(f'Label: {y_}')\n",
    "    plt.show()\n"
   ]
  },
  {
   "cell_type": "code",
   "execution_count": 51,
   "id": "75369e14-b719-4677-9837-e24ca57a43ff",
   "metadata": {},
   "outputs": [
    {
     "data": {
      "image/png": "[encoded data removed]",
      "text/plain": [
       "<Figure size 432x288 with 1 Axes>"
      ]
     },
     "metadata": {
      "needs_background": "light"
     },
     "output_type": "display_data"
    },
    {
     "data": {
      "image/png": "[encoded data removed]",
      "text/plain": [
       "<Figure size 432x288 with 1 Axes>"
      ]
     },
     "metadata": {
      "needs_background": "light"
     },
     "output_type": "display_data"
    },
    {
     "data": {
      "image/png": "[encoded data removed]",
      "text/plain": [
       "<Figure size 432x288 with 1 Axes>"
      ]
     },
     "metadata": {
      "needs_background": "light"
     },
     "output_type": "display_data"
    }
   ],
   "source": [
    "# Visualizamos los elementos que sí son core samples\n",
    "X_clust = X_d[y_pred!=-1]\n",
    "for x in X_clust[-3:]:\n",
    "    noise_ex = x.reshape(8,8)\n",
    "    plt.imshow(noise_ex, cmap='gray')\n",
    "    plt.show()"
   ]
  },
  {
   "cell_type": "code",
   "execution_count": 52,
   "id": "74c39390-9dfc-40b9-9e60-1377b8643f60",
   "metadata": {},
   "outputs": [
    {
     "data": {
      "image/png": "[encoded data removed]",
      "text/plain": [
       "<Figure size 1080x2520 with 21 Axes>"
      ]
     },
     "metadata": {
      "needs_background": "light"
     },
     "output_type": "display_data"
    }
   ],
   "source": [
    "#Comparación entre el clustering por DBScan y las labels originales\n",
    "fig, ax = plt.subplots(7,3,figsize=(15,35))\n",
    "for j in range(0,7):\n",
    "    X_verf = X_d[y_pred==j]\n",
    "    y_verf = y_d[y_pred==j]\n",
    "    for i in range(3):\n",
    "        x = X_verf[i]\n",
    "        y_ = y_verf[i]\n",
    "        noise_ex = x.reshape(8,8)\n",
    "        ax[j][i].imshow(noise_ex, cmap='gray')\n",
    "        ax[j][i].set_title(f'Label: {y_}, Clust: {j}')\n",
    "plt.show()"
   ]
  },
  {
   "cell_type": "code",
   "execution_count": 58,
   "id": "47cfcb09-6843-4ea7-afa2-08695891b9df",
   "metadata": {},
   "outputs": [
    {
     "name": "stdout",
     "output_type": "stream",
     "text": [
      "Cluster: 0, label: 0 by 100.0%\n",
      "Cluster: 1, label: 3 by 99.36305732484077%\n",
      "Cluster: 2, label: 2 by 100.0%\n",
      "Cluster: 3, label: 4 by 100.0%\n",
      "Cluster: 4, label: 1 by 93.22033898305084%\n",
      "Cluster: 5, label: 6 by 99.43820224719101%\n",
      "Cluster: 6, label: 7 by 99.39393939393939%\n",
      "Cluster: 7, label: 5 by 98.89502762430939%\n",
      "Cluster: 8, label: 8 by 96.90721649484536%\n",
      "Cluster: 9, label: 9 by 99.23076923076923%\n",
      "Cluster: 10, label: 1 by 96.93877551020408%\n",
      "Cluster: 11, label: 8 by 100.0%\n"
     ]
    }
   ],
   "source": [
    "# Verificamos los clusters por la moda \n",
    "# De acuerdo a la etiqueta obtenemos el porcentaje \n",
    "# de números agrupados \"correctamente\"\n",
    "for k in range(12):\n",
    "    y_f = y[y_pred==k]\n",
    "    y_mode = stats.mode(y_f)\n",
    "    y_per = (y_mode[1][0] / len(y_f))*100\n",
    "    print(f'Cluster: {k}, label: {y_mode[0][0]} by {y_per}%')"
   ]
  },
  {
   "cell_type": "code",
   "execution_count": 61,
   "id": "5c7d1677-deb7-43f9-8243-34a035c01bcd",
   "metadata": {},
   "outputs": [
    {
     "data": {
      "image/png": "[encoded data removed]",
      "text/plain": [
       "<Figure size 720x720 with 6 Axes>"
      ]
     },
     "metadata": {
      "needs_background": "light"
     },
     "output_type": "display_data"
    }
   ],
   "source": [
    "# Visualización de las diferencias entre los clusters 10 y 11\n",
    "fig, ax = plt.subplots(2,3,figsize=(10,10))\n",
    "for j in range(10,12):\n",
    "    X_verf = X_d[y_pred==j]\n",
    "    y_verf = y_d[y_pred==j]\n",
    "    for i in range(3):\n",
    "        x = X_verf[i]\n",
    "        y_ = y_verf[i]\n",
    "        noise_ex = x.reshape(8,8)\n",
    "        ax[j-10][i].imshow(noise_ex, cmap='gray')\n",
    "        ax[j-10][i].set_title(f'Label: {y_}, Clust: {j}')\n",
    "plt.show()"
   ]
  },
  {
   "cell_type": "code",
   "execution_count": 63,
   "id": "cf8d0ecd-101a-49da-844e-500662c02a1d",
   "metadata": {},
   "outputs": [
    {
     "data": {
      "image/png": "[encoded data removed]",
      "text/plain": [
       "<Figure size 432x288 with 1 Axes>"
      ]
     },
     "metadata": {
      "needs_background": "light"
     },
     "output_type": "display_data"
    },
    {
     "data": {
      "image/png": "[encoded data removed]",
      "text/plain": [
       "<Figure size 432x288 with 1 Axes>"
      ]
     },
     "metadata": {
      "needs_background": "light"
     },
     "output_type": "display_data"
    },
    {
     "data": {
      "image/png": "[encoded data removed]",
      "text/plain": [
       "<Figure size 432x288 with 1 Axes>"
      ]
     },
     "metadata": {
      "needs_background": "light"
     },
     "output_type": "display_data"
    }
   ],
   "source": [
    "# Visualizamos los elementos que sí son core samples\n",
    "X_clust = X_d[y_pred==4]\n",
    "for x in X_clust[-3:]:\n",
    "    noise_ex = x.reshape(8,8)\n",
    "    plt.imshow(noise_ex, cmap='gray')\n",
    "    plt.show()"
   ]
  },
  {
   "cell_type": "code",
   "execution_count": 64,
   "id": "ca5d8453-05aa-4047-ae19-31b24db998f2",
   "metadata": {},
   "outputs": [
    {
     "data": {
      "image/png": "[encoded data removed]",
      "text/plain": [
       "<Figure size 432x288 with 1 Axes>"
      ]
     },
     "metadata": {
      "needs_background": "light"
     },
     "output_type": "display_data"
    },
    {
     "data": {
      "image/png": "[encoded data removed]",
      "text/plain": [
       "<Figure size 432x288 with 1 Axes>"
      ]
     },
     "metadata": {
      "needs_background": "light"
     },
     "output_type": "display_data"
    },
    {
     "data": {
      "image/png": "[encoded data removed]",
      "text/plain": [
       "<Figure size 432x288 with 1 Axes>"
      ]
     },
     "metadata": {
      "needs_background": "light"
     },
     "output_type": "display_data"
    }
   ],
   "source": [
    "# Visualizamos los elementos que sí son core samples\n",
    "X_clust = X_d[y_pred==8]\n",
    "for x in X_clust[-3:]:\n",
    "    noise_ex = x.reshape(8,8)\n",
    "    plt.imshow(noise_ex, cmap='gray')\n",
    "    plt.show()"
   ]
  },
  {
   "cell_type": "markdown",
   "id": "dcb7793d-bd65-4769-bc2f-db5f36a22cd9",
   "metadata": {},
   "source": [
    "Observemos que de los resultados DBScan ha encontrado dos grupos distintos para los números 8 y 1. Esta diferencia puede apreciarse en la forma que ambos tienen, en el primer cluster los número uno son escritos en dos trazos mientras que en el segundo en uno sólo, lo mismo pasa para los ocho, donde el segundo cluster se encuentran los números escritos como dos círculos conectados y en el primero como un \"infinito\" en un solo trazo. "
   ]
  },
  {
   "cell_type": "code",
   "execution_count": 54,
   "id": "83a3b08e-cd40-4afb-9829-d18633314069",
   "metadata": {},
   "outputs": [
    {
     "data": {
      "text/plain": [
       "0.8851002120017212"
      ]
     },
     "execution_count": 54,
     "metadata": {},
     "output_type": "execute_result"
    }
   ],
   "source": [
    "#Score de homogeneidad\n",
    "homogeneity_score(y_d,y_pred)"
   ]
  },
  {
   "cell_type": "markdown",
   "id": "5e34a063-c9d3-4033-ab90-ae3fb7f8eeed",
   "metadata": {},
   "source": [
    "# Conclusiones y Reflexión\n",
    "\n",
    "A lo largo de este notebook exploramos distintos algoritmos de aprendizaje no supervisado aplicados sobre el dataset `digits`. Notamos como un dataset de alta dimensionalidad como éste se aprovecha de la reducción de dimensiones por parte de KernelPCA, PCA y Manifold para lograr que algoritmos como DBScan generen mejores clusters con respecto al etiquetado original además de reducir considerablemente el número de observaciones fuera de _core samples_. De dichos clusters se observa incluso como dentro de la misma categoría el algoritmo puede identificar distintos tipos de un mísmo número, si se eligen los parámetros para un mayor número de clusters.\n",
    "\n",
    "Por otro lado, en la detección de valores atípicos notamos una gran utilidad para la limpieza de un dataset ya que a pesar de que no todos los resultados encontrados como atípicos podrían ser catalogados como tales, se ha reducido la cantidad de imágenes que deban ser revisados por experiencia humana. Adicionalemente, a diferencia de BoxPlot, donde no se encontraría fácilmente los valores atípicos debido a que en este caso las características de cada observación tienen que ser interpretadas contextualmente con sus vecinos, LOF sí lo logra ya que éste se basa en calcular las distacncias entre los puntos del dataset y aprovechar la densidad de puntos en el vecindario para determinar si un dato es outlier de acuerdo a un score.\n"
   ]
  }
 ],
 "metadata": {
  "kernelspec": {
   "display_name": "Python 3",
   "language": "python",
   "name": "python3"
  },
  "language_info": {
   "codemirror_mode": {
    "name": "ipython",
    "version": 3
   },
   "file_extension": ".py",
   "mimetype": "text/x-python",
   "name": "python",
   "nbconvert_exporter": "python",
   "pygments_lexer": "ipython3",
   "version": "3.8.8"
  }
 },
 "nbformat": 4,
 "nbformat_minor": 5
}
